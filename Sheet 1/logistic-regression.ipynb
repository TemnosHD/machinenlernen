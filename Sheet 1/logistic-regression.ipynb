{
 "cells": [
  {
   "cell_type": "markdown",
   "metadata": {},
   "source": [
    "# 1 Loading the Dataset"
   ]
  },
  {
   "cell_type": "code",
   "execution_count": 2,
   "metadata": {},
   "outputs": [
    {
     "name": "stdout",
     "output_type": "stream",
     "text": [
      "dict_keys(['data', 'target', 'target_names', 'images', 'DESCR'])\n",
      "(1797, 64)\n"
     ]
    }
   ],
   "source": [
    "import numpy as np\n",
    "from sklearn.datasets import load_digits\n",
    "digits = load_digits()\n",
    "print(digits.keys())\n",
    "data = digits[\"data\"]\n",
    "images = digits[\"images\"]\n",
    "target = digits[\"target\"]\n",
    "target_names = digits[\"target_names\"]\n",
    "print(data.shape)"
   ]
  },
  {
   "cell_type": "markdown",
   "metadata": {},
   "source": [
    "Extract instances showing \"3\" or \"8\", append a column of \"1s\" and create a vector of ground-truth labels where 1 corresponds to 3 and -1 to 8."
   ]
  },
  {
   "cell_type": "code",
   "execution_count": 3,
   "metadata": {
    "collapsed": true
   },
   "outputs": [],
   "source": [
    "X = data[np.logical_or(target == 3, target == 8)]\n",
    "y = target[np.logical_or(target == 3, target == 8)]\n",
    "\n",
    "X = np.concatenate((X, np.ones([len(y),1])), axis = 1)\n",
    "\n",
    "y[y==3] = 1\n",
    "y[y==8] = -1"
   ]
  },
  {
   "cell_type": "markdown",
   "metadata": {},
   "source": [
    "# 1.1 Classification with sklearn"
   ]
  },
  {
   "cell_type": "code",
   "execution_count": 4,
   "metadata": {
    "collapsed": true
   },
   "outputs": [],
   "source": [
    "from sklearn.linear_model import LogisticRegression\n",
    "from sklearn.model_selection import cross_val_score, train_test_split"
   ]
  },
  {
   "cell_type": "code",
   "execution_count": 5,
   "metadata": {
    "collapsed": true
   },
   "outputs": [],
   "source": [
    "num_splits = 10\n",
    "lambdas = [0.001,0.01,0.1,1,10,100,1000]\n",
    "scores = np.zeros([len(lambdas), 2]) # save mean score and std for each lambda\n",
    "\n",
    "for i, C in enumerate(lambdas):\n",
    "    logistic = LogisticRegression(C = C)\n",
    "    curr_scores = cross_val_score(logistic, X, y, cv = num_splits)\n",
    "    scores[i,0] = np.average(curr_scores)\n",
    "    scores[i,1] = np.std(curr_scores)"
   ]
  },
  {
   "cell_type": "code",
   "execution_count": 6,
   "metadata": {
    "collapsed": true
   },
   "outputs": [],
   "source": [
    "import pandas as pd\n",
    "pd.options.display.float_format = '{:,.4f}'.format"
   ]
  },
  {
   "cell_type": "code",
   "execution_count": 7,
   "metadata": {},
   "outputs": [
    {
     "data": {
      "text/html": [
       "<div>\n",
       "<style>\n",
       "    .dataframe thead tr:only-child th {\n",
       "        text-align: right;\n",
       "    }\n",
       "\n",
       "    .dataframe thead th {\n",
       "        text-align: left;\n",
       "    }\n",
       "\n",
       "    .dataframe tbody tr th {\n",
       "        vertical-align: top;\n",
       "    }\n",
       "</style>\n",
       "<table border=\"1\" class=\"dataframe\">\n",
       "  <thead>\n",
       "    <tr style=\"text-align: right;\">\n",
       "      <th>C</th>\n",
       "      <th>mean</th>\n",
       "      <th>std</th>\n",
       "    </tr>\n",
       "  </thead>\n",
       "  <tbody>\n",
       "    <tr>\n",
       "      <th>0.0010</th>\n",
       "      <td>0.9688</td>\n",
       "      <td>0.0531</td>\n",
       "    </tr>\n",
       "    <tr>\n",
       "      <th>0.0100</th>\n",
       "      <td>0.9691</td>\n",
       "      <td>0.0464</td>\n",
       "    </tr>\n",
       "    <tr>\n",
       "      <th>0.1000</th>\n",
       "      <td>0.9860</td>\n",
       "      <td>0.0288</td>\n",
       "    </tr>\n",
       "    <tr>\n",
       "      <th>1.0000</th>\n",
       "      <td>0.9860</td>\n",
       "      <td>0.0288</td>\n",
       "    </tr>\n",
       "    <tr>\n",
       "      <th>10.0000</th>\n",
       "      <td>0.9803</td>\n",
       "      <td>0.0283</td>\n",
       "    </tr>\n",
       "    <tr>\n",
       "      <th>100.0000</th>\n",
       "      <td>0.9775</td>\n",
       "      <td>0.0304</td>\n",
       "    </tr>\n",
       "    <tr>\n",
       "      <th>1,000.0000</th>\n",
       "      <td>0.9747</td>\n",
       "      <td>0.0341</td>\n",
       "    </tr>\n",
       "  </tbody>\n",
       "</table>\n",
       "</div>"
      ],
      "text/plain": [
       "C            mean    std\n",
       "0.0010     0.9688 0.0531\n",
       "0.0100     0.9691 0.0464\n",
       "0.1000     0.9860 0.0288\n",
       "1.0000     0.9860 0.0288\n",
       "10.0000    0.9803 0.0283\n",
       "100.0000   0.9775 0.0304\n",
       "1,000.0000 0.9747 0.0341"
      ]
     },
     "metadata": {},
     "output_type": "display_data"
    }
   ],
   "source": [
    "display(pd.DataFrame(\n",
    "        data = scores,\n",
    "        index = lambdas,\n",
    "        columns = ['mean','std'])\n",
    "        .rename_axis('C', axis = 'columns'))"
   ]
  },
  {
   "cell_type": "markdown",
   "metadata": {},
   "source": [
    "The accuracy of the prediction varies only very slowly when modifying the regularization parameter. The best accuracy is obtained for $\\lambda=0.1, 1, 10$, thus a very large range. In the following we will proceed using $\\lambda=1$."
   ]
  },
  {
   "cell_type": "markdown",
   "metadata": {},
   "source": [
    "# 1.2 Optimization Methods"
   ]
  },
  {
   "cell_type": "code",
   "execution_count": 8,
   "metadata": {
    "collapsed": true
   },
   "outputs": [],
   "source": [
    "def sigmoid(z):\n",
    "    return 1 / (1 + np.exp(-z))"
   ]
  },
  {
   "cell_type": "code",
   "execution_count": 9,
   "metadata": {
    "collapsed": true
   },
   "outputs": [],
   "source": [
    "def predict(beta, X):\n",
    "    # if X*beta > 0 --> y=1, if X*beta < 0 --> y=-1\n",
    "    y = (X.dot(beta) >= 0) * 2 - 1\n",
    "    return y"
   ]
  },
  {
   "cell_type": "code",
   "execution_count": 10,
   "metadata": {
    "collapsed": true
   },
   "outputs": [],
   "source": [
    "def zero_one_loss(y_prediction, y_truth):\n",
    "    return np.sum(np.not_equal(y_prediction, y_truth))"
   ]
  },
  {
   "cell_type": "code",
   "execution_count": 11,
   "metadata": {
    "collapsed": true
   },
   "outputs": [],
   "source": [
    "def gradient(beta, X, y, lambda_ = 1):\n",
    "    # distinguish the cases of one single / several training instances\n",
    "    if np.isscalar(y):\n",
    "        grad = beta / lambda_ - sigmoid(-X.dot(beta) * y) * y * X\n",
    "    else:\n",
    "        grad = beta / lambda_ - np.average((sigmoid(-X.dot(beta) * y) * y)[:,None] * X, axis = 0)\n",
    "    return grad"
   ]
  },
  {
   "cell_type": "code",
   "execution_count": 12,
   "metadata": {
    "collapsed": true
   },
   "outputs": [],
   "source": [
    "def GD(X, y, beta, tau_0, gamma, m):\n",
    "    for _ in range(m):\n",
    "        tau = tau_0 / (1 + gamma * _)\n",
    "        beta = beta - tau * gradient(beta, X, y)\n",
    "    return beta"
   ]
  },
  {
   "cell_type": "markdown",
   "metadata": {},
   "source": [
    "To sample single random instances, we do sampling without replacement since we want to avoid computing the gradient from the same instance repetitively. Instead, we want to use as much different samples as possible to compute the gradient.<br>\n",
    "Only in the case of mini-batches, we do sampling with replacement since the training set is not large enough to sample 150 times a mini-batch witout replacing \"old\" samples."
   ]
  },
  {
   "cell_type": "code",
   "execution_count": 13,
   "metadata": {
    "collapsed": true
   },
   "outputs": [],
   "source": [
    "from sklearn.utils import shuffle\n",
    "def SGD(X, y, beta, tau_0, gamma, m):\n",
    "    X, y = shuffle(X,y)\n",
    "    for i in range(m):\n",
    "        tau = tau_0 / (1 + gamma * i)\n",
    "        beta = beta - tau * gradient(beta, X[i,:], y[i])\n",
    "    return beta"
   ]
  },
  {
   "cell_type": "code",
   "execution_count": 14,
   "metadata": {
    "collapsed": true
   },
   "outputs": [],
   "source": [
    "def SG_minibatch(X, y, beta, tau_0, gamma, m, B = 1):\n",
    "    # here we do not replace the samples since there would not be enough samples\n",
    "    # to perform m=150 optimization steps for larger B\n",
    "    for i in range(m):\n",
    "        X, y = shuffle(X,y)\n",
    "        tau = tau_0 / (1 + gamma * i)\n",
    "        beta = beta - tau * gradient(beta, X[:B,:], y[:B])\n",
    "    return beta"
   ]
  },
  {
   "cell_type": "code",
   "execution_count": 15,
   "metadata": {
    "collapsed": true
   },
   "outputs": [],
   "source": [
    "def SG_momentum(X, y, beta, tau_0, gamma, mu, m):\n",
    "    X, y = shuffle(X,y)\n",
    "    # initialize g\n",
    "    g = np.zeros(len(beta))\n",
    "    for i in range(m):\n",
    "        tau = tau_0 / (1 + gamma * i)\n",
    "        g = mu * g + (1 - mu) * gradient(beta, X[i,:], y[i])\n",
    "        beta = beta - tau * g\n",
    "    return beta"
   ]
  },
  {
   "cell_type": "code",
   "execution_count": 16,
   "metadata": {
    "collapsed": true
   },
   "outputs": [],
   "source": [
    "def ADAM(X, y, beta, m, tau=10**-4, mu1=0.9, mu2=0.999, eps=10**-8):\n",
    "    X, y = shuffle(X,y)\n",
    "    # initialize g, q\n",
    "    g = np.zeros(len(beta))\n",
    "    q = np.zeros(len(beta))\n",
    "    for i in range(m):\n",
    "        grad = gradient(beta, X[i,:], y[i])\n",
    "        g = mu1 * g + (1 - mu1) * grad\n",
    "        q = mu2 * q + (1 - mu2) * np.square(grad)\n",
    "        beta = beta - tau / (np.sqrt(q) + eps) * g\n",
    "    return beta"
   ]
  },
  {
   "cell_type": "code",
   "execution_count": 17,
   "metadata": {
    "collapsed": true
   },
   "outputs": [],
   "source": [
    "def Newton_Raphson(X, y, beta, m, lambda_=1):\n",
    "    N,D = X.shape\n",
    "    for _ in range(m):\n",
    "        z = X.dot(beta)\n",
    "        y_tilde = y / sigmoid(y * z)\n",
    "        W = lambda_ / N * np.diag(sigmoid(z) * sigmoid(-z))\n",
    "        inv = np.linalg.inv(np.identity(D) + np.dot(X.T, np.dot(W, X)))\n",
    "        beta = np.dot(inv, np.dot(X.T, W)).dot(z + y_tilde)\n",
    "    return beta"
   ]
  },
  {
   "cell_type": "code",
   "execution_count": 18,
   "metadata": {
    "collapsed": true
   },
   "outputs": [],
   "source": [
    "def dual_coordinate_ascent(X, y, m, lambda_=1):\n",
    "    # initialization:\n",
    "    N = X.shape[0]\n",
    "    alpha = np.random.uniform(size=N)\n",
    "    beta = lambda_ * np.average((alpha * y)[:,None] * X, axis=0)\n",
    "    X, y = shuffle(X, y)\n",
    "    for i in range(m):\n",
    "        f_prime = y[i] * np.dot(X[i,:], beta) + np.log(alpha[i] / (1 - alpha[i]))\n",
    "        f_2prime = lambda_ / N * np.dot(X[i,:], X[i,:].T) + 1 / (alpha[i] * (1 - alpha[i]))\n",
    "        alpha_old = alpha[i].copy()\n",
    "        alpha[i] = max(0, min(1, alpha[i] - f_prime / f_2prime))\n",
    "        beta += lambda_ / N * y[i] * X[i,:] * (alpha[i] - alpha_old)\n",
    "    return beta"
   ]
  },
  {
   "cell_type": "code",
   "execution_count": 19,
   "metadata": {
    "collapsed": true
   },
   "outputs": [],
   "source": [
    "def SAGD(X, y, beta_init, tau_0, gamma, m, lambda_ = 0.001):\n",
    "    #init\n",
    "    try:\n",
    "        X, y = shuffle(X, y)\n",
    "        N    = X.shape[0]\n",
    "        beta = beta_init\n",
    "        g_stored = np.zeros(N)\n",
    "        g_vec    = np.zeros(N)\n",
    "        for i in range(N):\n",
    "            #print(sigmoid(-y[i] * np.dot(X[i,:],beta)))\n",
    "            g_stored[i] = -y[i] * X[i, :] * sigmoid(-y[i] * np.dot(X[i,:],beta))\n",
    "        g = np.average(g_stored)\n",
    "        #iterate\n",
    "        for i in range(m):\n",
    "            g_vec[i] = -y[i] * X[i,:] * sigmoid(-y[i] * np.dot(X[i,:],beta))\n",
    "            g     = g + 1. / N * (g_vec[i] - g_stored[i])\n",
    "            tau_t = tau_0 / (1 + gamma * i)\n",
    "            g_stored[i] = g_vec[i]\n",
    "            beta  = beta * (1 - tau_t / lambda_) - tau_t * g \n",
    "        return beta\n",
    "    except:\n",
    "        raise NotImplementedError('Not yet implemented')"
   ]
  },
  {
   "cell_type": "markdown",
   "metadata": {},
   "source": [
    "#### dual coordinate ascent"
   ]
  },
  {
   "cell_type": "code",
   "execution_count": 21,
   "metadata": {
    "scrolled": true
   },
   "outputs": [
    {
     "name": "stdout",
     "output_type": "stream",
     "text": [
      "0.0740740740741\n"
     ]
    }
   ],
   "source": [
    "X_train, X_test, y_train, y_test = train_test_split (X, y, test_size = 0.3 ,random_state = 9)\n",
    "beta = dual_coordinate_ascent(X_train, y_train, 150)\n",
    "\n",
    "errors = zero_one_loss(predict(beta, X_test), y_test)\n",
    "print(errors / len(y_test))"
   ]
  },
  {
   "cell_type": "markdown",
   "metadata": {},
   "source": [
    "#### SAGD"
   ]
  },
  {
   "cell_type": "code",
   "execution_count": 22,
   "metadata": {},
   "outputs": [
    {
     "ename": "NotImplementedError",
     "evalue": "Not yet implemented",
     "output_type": "error",
     "traceback": [
      "\u001b[0;31m---------------------------------------------------------------------------\u001b[0m",
      "\u001b[0;31mValueError\u001b[0m                                Traceback (most recent call last)",
      "\u001b[0;32m<ipython-input-20-028ad3c55fc7>\u001b[0m in \u001b[0;36mSAGD\u001b[0;34m(X, y, beta_init, tau_0, gamma, m, lambda_)\u001b[0m\n\u001b[1;32m     10\u001b[0m             \u001b[0;31m#print(sigmoid(-y[i] * np.dot(X[i,:],beta)))\u001b[0m\u001b[0;34m\u001b[0m\u001b[0;34m\u001b[0m\u001b[0m\n\u001b[0;32m---> 11\u001b[0;31m             \u001b[0mg_stored\u001b[0m\u001b[0;34m[\u001b[0m\u001b[0mi\u001b[0m\u001b[0;34m]\u001b[0m \u001b[0;34m=\u001b[0m \u001b[0;34m-\u001b[0m\u001b[0my\u001b[0m\u001b[0;34m[\u001b[0m\u001b[0mi\u001b[0m\u001b[0;34m]\u001b[0m \u001b[0;34m*\u001b[0m \u001b[0mX\u001b[0m\u001b[0;34m[\u001b[0m\u001b[0mi\u001b[0m\u001b[0;34m,\u001b[0m \u001b[0;34m:\u001b[0m\u001b[0;34m]\u001b[0m \u001b[0;34m*\u001b[0m \u001b[0msigmoid\u001b[0m\u001b[0;34m(\u001b[0m\u001b[0;34m-\u001b[0m\u001b[0my\u001b[0m\u001b[0;34m[\u001b[0m\u001b[0mi\u001b[0m\u001b[0;34m]\u001b[0m \u001b[0;34m*\u001b[0m \u001b[0mnp\u001b[0m\u001b[0;34m.\u001b[0m\u001b[0mdot\u001b[0m\u001b[0;34m(\u001b[0m\u001b[0mX\u001b[0m\u001b[0;34m[\u001b[0m\u001b[0mi\u001b[0m\u001b[0;34m,\u001b[0m\u001b[0;34m:\u001b[0m\u001b[0;34m]\u001b[0m\u001b[0;34m,\u001b[0m\u001b[0mbeta\u001b[0m\u001b[0;34m)\u001b[0m\u001b[0;34m)\u001b[0m\u001b[0;34m\u001b[0m\u001b[0m\n\u001b[0m\u001b[1;32m     12\u001b[0m         \u001b[0mg\u001b[0m \u001b[0;34m=\u001b[0m \u001b[0mnp\u001b[0m\u001b[0;34m.\u001b[0m\u001b[0maverage\u001b[0m\u001b[0;34m(\u001b[0m\u001b[0mg_stored\u001b[0m\u001b[0;34m)\u001b[0m\u001b[0;34m\u001b[0m\u001b[0m\n",
      "\u001b[0;31mValueError\u001b[0m: setting an array element with a sequence.",
      "\nDuring handling of the above exception, another exception occurred:\n",
      "\u001b[0;31mNotImplementedError\u001b[0m                       Traceback (most recent call last)",
      "\u001b[0;32m<ipython-input-22-f91d9cc6115d>\u001b[0m in \u001b[0;36m<module>\u001b[0;34m()\u001b[0m\n\u001b[1;32m      3\u001b[0m \u001b[0mtau_0\u001b[0m \u001b[0;34m=\u001b[0m \u001b[0;36m0.001\u001b[0m\u001b[0;34m\u001b[0m\u001b[0m\n\u001b[1;32m      4\u001b[0m \u001b[0mgamma\u001b[0m \u001b[0;34m=\u001b[0m \u001b[0;36m0.0001\u001b[0m\u001b[0;34m\u001b[0m\u001b[0m\n\u001b[0;32m----> 5\u001b[0;31m \u001b[0mbeta\u001b[0m \u001b[0;34m=\u001b[0m \u001b[0mSAGD\u001b[0m\u001b[0;34m(\u001b[0m\u001b[0mX_train\u001b[0m\u001b[0;34m,\u001b[0m \u001b[0my_train\u001b[0m\u001b[0;34m,\u001b[0m \u001b[0mbeta\u001b[0m\u001b[0;34m,\u001b[0m \u001b[0mtau_0\u001b[0m\u001b[0;34m,\u001b[0m \u001b[0mgamma\u001b[0m\u001b[0;34m,\u001b[0m \u001b[0;36m150\u001b[0m\u001b[0;34m)\u001b[0m\u001b[0;34m\u001b[0m\u001b[0m\n\u001b[0m\u001b[1;32m      6\u001b[0m \u001b[0;34m\u001b[0m\u001b[0m\n\u001b[1;32m      7\u001b[0m \u001b[0merrors\u001b[0m \u001b[0;34m=\u001b[0m \u001b[0mzero_one_loss\u001b[0m\u001b[0;34m(\u001b[0m\u001b[0mpredict\u001b[0m\u001b[0;34m(\u001b[0m\u001b[0mbeta\u001b[0m\u001b[0;34m,\u001b[0m \u001b[0mX_test\u001b[0m\u001b[0;34m)\u001b[0m\u001b[0;34m,\u001b[0m \u001b[0my_test\u001b[0m\u001b[0;34m)\u001b[0m\u001b[0;34m\u001b[0m\u001b[0m\n",
      "\u001b[0;32m<ipython-input-20-028ad3c55fc7>\u001b[0m in \u001b[0;36mSAGD\u001b[0;34m(X, y, beta_init, tau_0, gamma, m, lambda_)\u001b[0m\n\u001b[1;32m     20\u001b[0m         \u001b[0;32mreturn\u001b[0m \u001b[0mbeta\u001b[0m\u001b[0;34m\u001b[0m\u001b[0m\n\u001b[1;32m     21\u001b[0m     \u001b[0;32mexcept\u001b[0m\u001b[0;34m:\u001b[0m\u001b[0;34m\u001b[0m\u001b[0m\n\u001b[0;32m---> 22\u001b[0;31m         \u001b[0;32mraise\u001b[0m \u001b[0mNotImplementedError\u001b[0m\u001b[0;34m(\u001b[0m\u001b[0;34m'Not yet implemented'\u001b[0m\u001b[0;34m)\u001b[0m\u001b[0;34m\u001b[0m\u001b[0m\n\u001b[0m",
      "\u001b[0;31mNotImplementedError\u001b[0m: Not yet implemented"
     ]
    }
   ],
   "source": [
    "X_train, X_test, y_train, y_test = train_test_split (X, y, test_size = 0.3 ,random_state = 0)\n",
    "beta = np.zeros(65)\n",
    "tau_0 = 0.001\n",
    "gamma = 0.0001\n",
    "beta = SAGD(X_train, y_train, beta, tau_0, gamma, 150)\n",
    "\n",
    "errors = zero_one_loss(predict(beta, X_test), y_test)\n",
    "print(errors / len(y_test))"
   ]
  },
  {
   "cell_type": "markdown",
   "metadata": {},
   "source": [
    "#### GD"
   ]
  },
  {
   "cell_type": "code",
   "execution_count": 23,
   "metadata": {},
   "outputs": [
    {
     "name": "stdout",
     "output_type": "stream",
     "text": [
      "0.0185185185185\n"
     ]
    }
   ],
   "source": [
    "X_train, X_test, y_train, y_test = train_test_split (X, y, test_size = 0.3 ,random_state = 0)\n",
    "beta = np.zeros(65)\n",
    "beta = GD(X_train, y_train, beta, 0.001, 0.0001, 10)\n",
    "\n",
    "errors = zero_one_loss(predict(beta, X_test), y_test)\n",
    "print(errors / len(y_test))"
   ]
  },
  {
   "cell_type": "markdown",
   "metadata": {},
   "source": [
    "#### Newton Raphson"
   ]
  },
  {
   "cell_type": "code",
   "execution_count": 22,
   "metadata": {},
   "outputs": [
    {
     "name": "stdout",
     "output_type": "stream",
     "text": [
      "0.00925925925926\n"
     ]
    }
   ],
   "source": [
    "X_train, X_test, y_train, y_test = train_test_split (X, y, test_size = 0.3 ,random_state = 2)\n",
    "beta = np.zeros(65)\n",
    "beta = Newton_Raphson(X_train, y_train, beta, 150)\n",
    "\n",
    "errors = zero_one_loss(predict(beta, X_test), y_test)\n",
    "print(errors / len(y_test))"
   ]
  },
  {
   "cell_type": "code",
   "execution_count": 25,
   "metadata": {},
   "outputs": [
    {
     "data": {
      "text/plain": [
       "(108, 65)"
      ]
     },
     "execution_count": 25,
     "metadata": {},
     "output_type": "execute_result"
    }
   ],
   "source": [
    "X_test.shape"
   ]
  },
  {
   "cell_type": "markdown",
   "metadata": {},
   "source": [
    "#### SGD w/o replacement"
   ]
  },
  {
   "cell_type": "code",
   "execution_count": 26,
   "metadata": {},
   "outputs": [
    {
     "name": "stdout",
     "output_type": "stream",
     "text": [
      "0.0\n"
     ]
    }
   ],
   "source": [
    "X_train, X_test, y_train, y_test = train_test_split (X, y, test_size = 0.3 ,random_state = 0)\n",
    "beta = np.zeros(65)\n",
    "tau_0 = 0.001\n",
    "gamma = 0.0001\n",
    "beta = SGD(X_train, y_train, beta, tau_0, gamma, 150)\n",
    "\n",
    "errors = zero_one_loss(predict(beta, X_test), y_test)\n",
    "print(errors / len(y_test))"
   ]
  },
  {
   "cell_type": "markdown",
   "metadata": {},
   "source": [
    "#### SGD with minibatch"
   ]
  },
  {
   "cell_type": "code",
   "execution_count": 27,
   "metadata": {},
   "outputs": [
    {
     "name": "stdout",
     "output_type": "stream",
     "text": [
      "0.00925925925926\n"
     ]
    }
   ],
   "source": [
    "X_train, X_test, y_train, y_test = train_test_split (X, y, test_size = 0.3 ,random_state = 0)\n",
    "beta = np.zeros(65)\n",
    "tau_0 = 0.001\n",
    "gamma = 0.0001\n",
    "beta = SG_minibatch(X_train, y_train, beta, tau_0, gamma, 150, B = 20)\n",
    "\n",
    "errors = zero_one_loss(predict(beta, X_test), y_test)\n",
    "print(errors / len(y_test))"
   ]
  },
  {
   "cell_type": "markdown",
   "metadata": {},
   "source": [
    "#### ADAM"
   ]
  },
  {
   "cell_type": "code",
   "execution_count": 28,
   "metadata": {},
   "outputs": [
    {
     "name": "stdout",
     "output_type": "stream",
     "text": [
      "0.0277777777778\n"
     ]
    }
   ],
   "source": [
    "X_train, X_test, y_train, y_test = train_test_split (X, y, test_size = 0.3 ,random_state = 0)\n",
    "beta = np.zeros(65)\n",
    "tau_0 = 0.001\n",
    "gamma = 0.0001\n",
    "mu = 0.1\n",
    "beta = ADAM(X_train, y_train, beta, 150)\n",
    "\n",
    "errors = zero_one_loss(predict(beta, X_test), y_test)\n",
    "print(errors / len(y_test))"
   ]
  },
  {
   "cell_type": "markdown",
   "metadata": {},
   "source": [
    "# 1.3 Comparison"
   ]
  },
  {
   "cell_type": "code",
   "execution_count": 23,
   "metadata": {},
   "outputs": [
    {
     "name": "stderr",
     "output_type": "stream",
     "text": [
      "C:\\Users\\Alex\\Anaconda3\\envs\\ml\\lib\\site-packages\\sklearn\\cross_validation.py:41: DeprecationWarning: This module was deprecated in version 0.18 in favor of the model_selection module into which all the refactored classes and functions are moved. Also note that the interface of the new CV iterators are different from that of this module. This module will be removed in 0.20.\n",
      "  \"This module will be removed in 0.20.\", DeprecationWarning)\n"
     ]
    }
   ],
   "source": [
    "from sklearn.cross_validation import KFold\n",
    "from operator import itemgetter\n",
    "import itertools"
   ]
  },
  {
   "cell_type": "code",
   "execution_count": 24,
   "metadata": {
    "collapsed": true
   },
   "outputs": [],
   "source": [
    "optimizers = ['GD', 'SGD', 'SGD_mini', 'SGD_mom', 'ADAM', 'DualCA', 'NR']\n",
    "#tbd: 'SAGD'\n",
    "\n",
    "class LogisticRegression:\n",
    "    def __init__(self, X, y, type_, beta_0):\n",
    "        self.X = X\n",
    "        self.y = y\n",
    "        self.type = type_\n",
    "        self.beta = beta_0\n",
    "        \n",
    "    def compare_parameters(self, tau_0_, mu_, gamma_, iter_ = 150, num_results_shown = None):\n",
    "        if num_results_shown is None:\n",
    "            num_results_shown = len(tau_0_)*len(mu_)*len(gamma_)\n",
    "        if self.type in ['NR', 'GD']:\n",
    "            iter_ = 10\n",
    "        X_tr, X_test, y_tr, y_test = train_test_split (self.X, self.y, test_size = 0.3 ,random_state = 0)\n",
    "        cross_val_results = []\n",
    "        beta = self.beta\n",
    "        for (tau_0, mu, gamma) in itertools.product(tau_0_, mu_, gamma_):\n",
    "            kf = KFold(y_tr.shape[0], n_folds=10)\n",
    "            errors = 0\n",
    "            for train_idx, val_idx in kf:\n",
    "                if self.type == 'SGD':\n",
    "                    beta = SGD(X_tr[train_idx], y_tr[train_idx], beta, tau_0, gamma, iter_)\n",
    "                elif self.type == 'GD':\n",
    "                    beta = GD(X_tr[train_idx], y_tr[train_idx], beta, tau_0, gamma, iter_)\n",
    "                elif self.type == 'SGD_mini':\n",
    "                    #print('SGD minibatch running with B = ', B)\n",
    "                    beta = SG_minibatch(X_tr[train_idx], y_tr[train_idx], beta, tau_0, gamma, iter_, B = 10)\n",
    "                elif self.type == 'SGD_mom':\n",
    "                    beta = SG_momentum(X_tr[train_idx], y_tr[train_idx], beta, tau_0, gamma, mu, iter_)\n",
    "                elif self.type == 'ADAM':\n",
    "                    #ADAM(X, y, beta, m, tau=10**-4, mu1=0.9, mu2=0.999, eps=10**-8):\n",
    "                    beta = ADAM(X_tr[train_idx], y_tr[train_idx], beta, iter_)\n",
    "                elif self.type == 'DualCA':\n",
    "                    beta = dual_coordinate_ascent(X_tr[train_idx], y_tr[train_idx], iter_)\n",
    "                elif self.type == 'NR':\n",
    "                    beta = Newton_Raphson(X_tr[train_idx], y_tr[train_idx], beta, iter_)\n",
    "                elif self.type == 'SAGD':\n",
    "                    #beta = self.type(X_tr[train_idx], y_tr[train_idx], beta, tau_0, gamma, mu, iter_)\n",
    "                    raise NotImplementedError('tbd')\n",
    "                \n",
    "                errors += zero_one_loss(predict(beta, X_tr[val_idx]), y_tr[val_idx])\n",
    "                \n",
    "            cross_val_results.append((tau_0, mu, gamma, errors))\n",
    "            \n",
    "        sort = np.array(sorted(cross_val_results, key = itemgetter(3)))\n",
    "        print('\\nUsing ' , self.type, ' optimizer.')\n",
    "        print('Listing results starting with lowest error score: \\n')\n",
    "        display(pd.DataFrame(\n",
    "            data = sort[:num_results_shown - 1, :3],\n",
    "            index = sort[:num_results_shown - 1, -1],\n",
    "            columns = ['tau_0','mu', 'gamma'])\n",
    "            .rename_axis('errors', axis = 'columns'))\n",
    "        \n",
    "        return sort[0]\n",
    "        #print(sorted(cross_val_results, key = itemgetter(3)))"
   ]
  },
  {
   "cell_type": "code",
   "execution_count": 25,
   "metadata": {},
   "outputs": [
    {
     "name": "stdout",
     "output_type": "stream",
     "text": [
      "\n",
      "Using  SGD  optimizer.\n",
      "Listing results starting with lowest error score: \n",
      "\n"
     ]
    },
    {
     "data": {
      "text/html": [
       "<div>\n",
       "<style>\n",
       "    .dataframe thead tr:only-child th {\n",
       "        text-align: right;\n",
       "    }\n",
       "\n",
       "    .dataframe thead th {\n",
       "        text-align: left;\n",
       "    }\n",
       "\n",
       "    .dataframe tbody tr th {\n",
       "        vertical-align: top;\n",
       "    }\n",
       "</style>\n",
       "<table border=\"1\" class=\"dataframe\">\n",
       "  <thead>\n",
       "    <tr style=\"text-align: right;\">\n",
       "      <th>errors</th>\n",
       "      <th>tau_0</th>\n",
       "      <th>mu</th>\n",
       "      <th>gamma</th>\n",
       "    </tr>\n",
       "  </thead>\n",
       "  <tbody>\n",
       "    <tr>\n",
       "      <th>0.0000</th>\n",
       "      <td>0.0010</td>\n",
       "      <td>0.1000</td>\n",
       "      <td>0.0010</td>\n",
       "    </tr>\n",
       "    <tr>\n",
       "      <th>0.0000</th>\n",
       "      <td>0.0010</td>\n",
       "      <td>0.5000</td>\n",
       "      <td>0.0100</td>\n",
       "    </tr>\n",
       "    <tr>\n",
       "      <th>1.0000</th>\n",
       "      <td>0.0010</td>\n",
       "      <td>0.2000</td>\n",
       "      <td>0.0100</td>\n",
       "    </tr>\n",
       "    <tr>\n",
       "      <th>2.0000</th>\n",
       "      <td>0.0010</td>\n",
       "      <td>0.2000</td>\n",
       "      <td>0.0010</td>\n",
       "    </tr>\n",
       "    <tr>\n",
       "      <th>3.0000</th>\n",
       "      <td>0.0010</td>\n",
       "      <td>0.1000</td>\n",
       "      <td>0.0100</td>\n",
       "    </tr>\n",
       "    <tr>\n",
       "      <th>3.0000</th>\n",
       "      <td>0.0010</td>\n",
       "      <td>0.2000</td>\n",
       "      <td>0.0001</td>\n",
       "    </tr>\n",
       "    <tr>\n",
       "      <th>3.0000</th>\n",
       "      <td>0.0010</td>\n",
       "      <td>0.5000</td>\n",
       "      <td>0.0001</td>\n",
       "    </tr>\n",
       "    <tr>\n",
       "      <th>3.0000</th>\n",
       "      <td>0.0010</td>\n",
       "      <td>0.5000</td>\n",
       "      <td>0.0010</td>\n",
       "    </tr>\n",
       "    <tr>\n",
       "      <th>5.0000</th>\n",
       "      <td>0.0010</td>\n",
       "      <td>0.1000</td>\n",
       "      <td>0.0001</td>\n",
       "    </tr>\n",
       "    <tr>\n",
       "      <th>16.0000</th>\n",
       "      <td>0.0100</td>\n",
       "      <td>0.1000</td>\n",
       "      <td>0.0100</td>\n",
       "    </tr>\n",
       "    <tr>\n",
       "      <th>18.0000</th>\n",
       "      <td>0.0100</td>\n",
       "      <td>0.2000</td>\n",
       "      <td>0.0100</td>\n",
       "    </tr>\n",
       "    <tr>\n",
       "      <th>24.0000</th>\n",
       "      <td>0.0100</td>\n",
       "      <td>0.5000</td>\n",
       "      <td>0.0100</td>\n",
       "    </tr>\n",
       "    <tr>\n",
       "      <th>32.0000</th>\n",
       "      <td>0.0100</td>\n",
       "      <td>0.1000</td>\n",
       "      <td>0.0010</td>\n",
       "    </tr>\n",
       "    <tr>\n",
       "      <th>34.0000</th>\n",
       "      <td>0.0100</td>\n",
       "      <td>0.2000</td>\n",
       "      <td>0.0001</td>\n",
       "    </tr>\n",
       "    <tr>\n",
       "      <th>35.0000</th>\n",
       "      <td>0.0100</td>\n",
       "      <td>0.5000</td>\n",
       "      <td>0.0010</td>\n",
       "    </tr>\n",
       "    <tr>\n",
       "      <th>36.0000</th>\n",
       "      <td>0.0100</td>\n",
       "      <td>0.2000</td>\n",
       "      <td>0.0010</td>\n",
       "    </tr>\n",
       "    <tr>\n",
       "      <th>40.0000</th>\n",
       "      <td>0.0100</td>\n",
       "      <td>0.1000</td>\n",
       "      <td>0.0001</td>\n",
       "    </tr>\n",
       "    <tr>\n",
       "      <th>46.0000</th>\n",
       "      <td>0.0100</td>\n",
       "      <td>0.5000</td>\n",
       "      <td>0.0001</td>\n",
       "    </tr>\n",
       "    <tr>\n",
       "      <th>62.0000</th>\n",
       "      <td>0.1000</td>\n",
       "      <td>0.1000</td>\n",
       "      <td>0.0100</td>\n",
       "    </tr>\n",
       "    <tr>\n",
       "      <th>66.0000</th>\n",
       "      <td>0.1000</td>\n",
       "      <td>0.5000</td>\n",
       "      <td>0.0010</td>\n",
       "    </tr>\n",
       "    <tr>\n",
       "      <th>74.0000</th>\n",
       "      <td>0.1000</td>\n",
       "      <td>0.5000</td>\n",
       "      <td>0.0001</td>\n",
       "    </tr>\n",
       "    <tr>\n",
       "      <th>79.0000</th>\n",
       "      <td>0.1000</td>\n",
       "      <td>0.5000</td>\n",
       "      <td>0.0100</td>\n",
       "    </tr>\n",
       "    <tr>\n",
       "      <th>83.0000</th>\n",
       "      <td>0.1000</td>\n",
       "      <td>0.2000</td>\n",
       "      <td>0.0100</td>\n",
       "    </tr>\n",
       "    <tr>\n",
       "      <th>88.0000</th>\n",
       "      <td>0.1000</td>\n",
       "      <td>0.1000</td>\n",
       "      <td>0.0010</td>\n",
       "    </tr>\n",
       "    <tr>\n",
       "      <th>88.0000</th>\n",
       "      <td>0.1000</td>\n",
       "      <td>0.2000</td>\n",
       "      <td>0.0001</td>\n",
       "    </tr>\n",
       "    <tr>\n",
       "      <th>100.0000</th>\n",
       "      <td>0.1000</td>\n",
       "      <td>0.1000</td>\n",
       "      <td>0.0001</td>\n",
       "    </tr>\n",
       "  </tbody>\n",
       "</table>\n",
       "</div>"
      ],
      "text/plain": [
       "errors    tau_0     mu  gamma\n",
       "0.0000   0.0010 0.1000 0.0010\n",
       "0.0000   0.0010 0.5000 0.0100\n",
       "1.0000   0.0010 0.2000 0.0100\n",
       "2.0000   0.0010 0.2000 0.0010\n",
       "3.0000   0.0010 0.1000 0.0100\n",
       "3.0000   0.0010 0.2000 0.0001\n",
       "3.0000   0.0010 0.5000 0.0001\n",
       "3.0000   0.0010 0.5000 0.0010\n",
       "5.0000   0.0010 0.1000 0.0001\n",
       "16.0000  0.0100 0.1000 0.0100\n",
       "18.0000  0.0100 0.2000 0.0100\n",
       "24.0000  0.0100 0.5000 0.0100\n",
       "32.0000  0.0100 0.1000 0.0010\n",
       "34.0000  0.0100 0.2000 0.0001\n",
       "35.0000  0.0100 0.5000 0.0010\n",
       "36.0000  0.0100 0.2000 0.0010\n",
       "40.0000  0.0100 0.1000 0.0001\n",
       "46.0000  0.0100 0.5000 0.0001\n",
       "62.0000  0.1000 0.1000 0.0100\n",
       "66.0000  0.1000 0.5000 0.0010\n",
       "74.0000  0.1000 0.5000 0.0001\n",
       "79.0000  0.1000 0.5000 0.0100\n",
       "83.0000  0.1000 0.2000 0.0100\n",
       "88.0000  0.1000 0.1000 0.0010\n",
       "88.0000  0.1000 0.2000 0.0001\n",
       "100.0000 0.1000 0.1000 0.0001"
      ]
     },
     "metadata": {},
     "output_type": "display_data"
    },
    {
     "data": {
      "text/plain": [
       "array([ 0.001,  0.1  ,  0.001,  0.   ])"
      ]
     },
     "execution_count": 25,
     "metadata": {},
     "output_type": "execute_result"
    }
   ],
   "source": [
    "tau, mu, gamma = [0.001, 0.01, 0.1], [0.1, 0.2, 0.5], [0.0001, 0.001, 0.01]\n",
    "LR = LogisticRegression(X, y, 'SGD', np.zeros(65))\n",
    "LR.compare_parameters(tau, mu, gamma)"
   ]
  },
  {
   "cell_type": "markdown",
   "metadata": {},
   "source": [
    "#### listing the n best results of each optimizer"
   ]
  },
  {
   "cell_type": "code",
   "execution_count": 26,
   "metadata": {
    "collapsed": true
   },
   "outputs": [],
   "source": [
    "def list_n_best(X, y, n, opti_list, tau, mu, gamma):\n",
    "    overview = np.empty([7], dtype=[('opt', 'U10'), ('tau', 'f4'), ('mu', 'f4'), ('gamma', 'f4')]) #for displaying the best parameters in the end\n",
    "    for i, opt in enumerate(opti_list): \n",
    "        LR = LogisticRegression(X, y, opt, np.zeros(65))\n",
    "        best = LR.compare_parameters(tau, mu, gamma, num_results_shown=n)\n",
    "        overview['opt'][i] = opt\n",
    "        overview['tau'][i] = best[0]\n",
    "        overview['mu'][i] = best[1]\n",
    "        overview['gamma'][i] = best[2]\n",
    "    print(\"\\n \\n Overall best parameters: \\n\")\n",
    "    display(pd.DataFrame(\n",
    "            data = overview, index=overview['opt'],\n",
    "            columns = ['tau','mu', 'gamma']).rename_axis('optimizer', axis = 'columns'))\n",
    "    return overview"
   ]
  },
  {
   "cell_type": "code",
   "execution_count": 27,
   "metadata": {
    "scrolled": false
   },
   "outputs": [
    {
     "name": "stdout",
     "output_type": "stream",
     "text": [
      "\n",
      "Using  GD  optimizer.\n",
      "Listing results starting with lowest error score: \n",
      "\n"
     ]
    },
    {
     "data": {
      "text/html": [
       "<div>\n",
       "<style>\n",
       "    .dataframe thead tr:only-child th {\n",
       "        text-align: right;\n",
       "    }\n",
       "\n",
       "    .dataframe thead th {\n",
       "        text-align: left;\n",
       "    }\n",
       "\n",
       "    .dataframe tbody tr th {\n",
       "        vertical-align: top;\n",
       "    }\n",
       "</style>\n",
       "<table border=\"1\" class=\"dataframe\">\n",
       "  <thead>\n",
       "    <tr style=\"text-align: right;\">\n",
       "      <th>errors</th>\n",
       "      <th>tau_0</th>\n",
       "      <th>mu</th>\n",
       "      <th>gamma</th>\n",
       "    </tr>\n",
       "  </thead>\n",
       "  <tbody>\n",
       "    <tr>\n",
       "      <th>3.0000</th>\n",
       "      <td>0.0010</td>\n",
       "      <td>0.1000</td>\n",
       "      <td>0.0100</td>\n",
       "    </tr>\n",
       "    <tr>\n",
       "      <th>3.0000</th>\n",
       "      <td>0.0010</td>\n",
       "      <td>0.2000</td>\n",
       "      <td>0.0001</td>\n",
       "    </tr>\n",
       "    <tr>\n",
       "      <th>3.0000</th>\n",
       "      <td>0.0010</td>\n",
       "      <td>0.2000</td>\n",
       "      <td>0.0010</td>\n",
       "    </tr>\n",
       "    <tr>\n",
       "      <th>3.0000</th>\n",
       "      <td>0.0010</td>\n",
       "      <td>0.2000</td>\n",
       "      <td>0.0100</td>\n",
       "    </tr>\n",
       "    <tr>\n",
       "      <th>3.0000</th>\n",
       "      <td>0.0010</td>\n",
       "      <td>0.5000</td>\n",
       "      <td>0.0001</td>\n",
       "    </tr>\n",
       "    <tr>\n",
       "      <th>3.0000</th>\n",
       "      <td>0.0010</td>\n",
       "      <td>0.5000</td>\n",
       "      <td>0.0010</td>\n",
       "    </tr>\n",
       "    <tr>\n",
       "      <th>3.0000</th>\n",
       "      <td>0.0010</td>\n",
       "      <td>0.5000</td>\n",
       "      <td>0.0100</td>\n",
       "    </tr>\n",
       "    <tr>\n",
       "      <th>3.0000</th>\n",
       "      <td>0.0100</td>\n",
       "      <td>0.1000</td>\n",
       "      <td>0.0001</td>\n",
       "    </tr>\n",
       "    <tr>\n",
       "      <th>3.0000</th>\n",
       "      <td>0.0100</td>\n",
       "      <td>0.1000</td>\n",
       "      <td>0.0010</td>\n",
       "    </tr>\n",
       "  </tbody>\n",
       "</table>\n",
       "</div>"
      ],
      "text/plain": [
       "errors  tau_0     mu  gamma\n",
       "3.0000 0.0010 0.1000 0.0100\n",
       "3.0000 0.0010 0.2000 0.0001\n",
       "3.0000 0.0010 0.2000 0.0010\n",
       "3.0000 0.0010 0.2000 0.0100\n",
       "3.0000 0.0010 0.5000 0.0001\n",
       "3.0000 0.0010 0.5000 0.0010\n",
       "3.0000 0.0010 0.5000 0.0100\n",
       "3.0000 0.0100 0.1000 0.0001\n",
       "3.0000 0.0100 0.1000 0.0010"
      ]
     },
     "metadata": {},
     "output_type": "display_data"
    },
    {
     "name": "stdout",
     "output_type": "stream",
     "text": [
      "\n",
      "Using  SGD  optimizer.\n",
      "Listing results starting with lowest error score: \n",
      "\n"
     ]
    },
    {
     "data": {
      "text/html": [
       "<div>\n",
       "<style>\n",
       "    .dataframe thead tr:only-child th {\n",
       "        text-align: right;\n",
       "    }\n",
       "\n",
       "    .dataframe thead th {\n",
       "        text-align: left;\n",
       "    }\n",
       "\n",
       "    .dataframe tbody tr th {\n",
       "        vertical-align: top;\n",
       "    }\n",
       "</style>\n",
       "<table border=\"1\" class=\"dataframe\">\n",
       "  <thead>\n",
       "    <tr style=\"text-align: right;\">\n",
       "      <th>errors</th>\n",
       "      <th>tau_0</th>\n",
       "      <th>mu</th>\n",
       "      <th>gamma</th>\n",
       "    </tr>\n",
       "  </thead>\n",
       "  <tbody>\n",
       "    <tr>\n",
       "      <th>1.0000</th>\n",
       "      <td>0.0010</td>\n",
       "      <td>0.1000</td>\n",
       "      <td>0.0100</td>\n",
       "    </tr>\n",
       "    <tr>\n",
       "      <th>2.0000</th>\n",
       "      <td>0.0010</td>\n",
       "      <td>0.2000</td>\n",
       "      <td>0.0010</td>\n",
       "    </tr>\n",
       "    <tr>\n",
       "      <th>2.0000</th>\n",
       "      <td>0.0010</td>\n",
       "      <td>0.2000</td>\n",
       "      <td>0.0100</td>\n",
       "    </tr>\n",
       "    <tr>\n",
       "      <th>2.0000</th>\n",
       "      <td>0.0010</td>\n",
       "      <td>0.5000</td>\n",
       "      <td>0.0010</td>\n",
       "    </tr>\n",
       "    <tr>\n",
       "      <th>3.0000</th>\n",
       "      <td>0.0010</td>\n",
       "      <td>0.1000</td>\n",
       "      <td>0.0001</td>\n",
       "    </tr>\n",
       "    <tr>\n",
       "      <th>3.0000</th>\n",
       "      <td>0.0010</td>\n",
       "      <td>0.2000</td>\n",
       "      <td>0.0001</td>\n",
       "    </tr>\n",
       "    <tr>\n",
       "      <th>3.0000</th>\n",
       "      <td>0.0010</td>\n",
       "      <td>0.5000</td>\n",
       "      <td>0.0100</td>\n",
       "    </tr>\n",
       "    <tr>\n",
       "      <th>4.0000</th>\n",
       "      <td>0.0010</td>\n",
       "      <td>0.5000</td>\n",
       "      <td>0.0001</td>\n",
       "    </tr>\n",
       "    <tr>\n",
       "      <th>5.0000</th>\n",
       "      <td>0.0010</td>\n",
       "      <td>0.1000</td>\n",
       "      <td>0.0010</td>\n",
       "    </tr>\n",
       "  </tbody>\n",
       "</table>\n",
       "</div>"
      ],
      "text/plain": [
       "errors  tau_0     mu  gamma\n",
       "1.0000 0.0010 0.1000 0.0100\n",
       "2.0000 0.0010 0.2000 0.0010\n",
       "2.0000 0.0010 0.2000 0.0100\n",
       "2.0000 0.0010 0.5000 0.0010\n",
       "3.0000 0.0010 0.1000 0.0001\n",
       "3.0000 0.0010 0.2000 0.0001\n",
       "3.0000 0.0010 0.5000 0.0100\n",
       "4.0000 0.0010 0.5000 0.0001\n",
       "5.0000 0.0010 0.1000 0.0010"
      ]
     },
     "metadata": {},
     "output_type": "display_data"
    },
    {
     "name": "stdout",
     "output_type": "stream",
     "text": [
      "\n",
      "Using  SGD_mini  optimizer.\n",
      "Listing results starting with lowest error score: \n",
      "\n"
     ]
    },
    {
     "data": {
      "text/html": [
       "<div>\n",
       "<style>\n",
       "    .dataframe thead tr:only-child th {\n",
       "        text-align: right;\n",
       "    }\n",
       "\n",
       "    .dataframe thead th {\n",
       "        text-align: left;\n",
       "    }\n",
       "\n",
       "    .dataframe tbody tr th {\n",
       "        vertical-align: top;\n",
       "    }\n",
       "</style>\n",
       "<table border=\"1\" class=\"dataframe\">\n",
       "  <thead>\n",
       "    <tr style=\"text-align: right;\">\n",
       "      <th>errors</th>\n",
       "      <th>tau_0</th>\n",
       "      <th>mu</th>\n",
       "      <th>gamma</th>\n",
       "    </tr>\n",
       "  </thead>\n",
       "  <tbody>\n",
       "    <tr>\n",
       "      <th>1.0000</th>\n",
       "      <td>0.0010</td>\n",
       "      <td>0.1000</td>\n",
       "      <td>0.0100</td>\n",
       "    </tr>\n",
       "    <tr>\n",
       "      <th>1.0000</th>\n",
       "      <td>0.0010</td>\n",
       "      <td>0.2000</td>\n",
       "      <td>0.0100</td>\n",
       "    </tr>\n",
       "    <tr>\n",
       "      <th>1.0000</th>\n",
       "      <td>0.0010</td>\n",
       "      <td>0.5000</td>\n",
       "      <td>0.0010</td>\n",
       "    </tr>\n",
       "    <tr>\n",
       "      <th>2.0000</th>\n",
       "      <td>0.0010</td>\n",
       "      <td>0.1000</td>\n",
       "      <td>0.0010</td>\n",
       "    </tr>\n",
       "    <tr>\n",
       "      <th>2.0000</th>\n",
       "      <td>0.0010</td>\n",
       "      <td>0.5000</td>\n",
       "      <td>0.0001</td>\n",
       "    </tr>\n",
       "    <tr>\n",
       "      <th>2.0000</th>\n",
       "      <td>0.0100</td>\n",
       "      <td>0.5000</td>\n",
       "      <td>0.0100</td>\n",
       "    </tr>\n",
       "    <tr>\n",
       "      <th>3.0000</th>\n",
       "      <td>0.0010</td>\n",
       "      <td>0.1000</td>\n",
       "      <td>0.0001</td>\n",
       "    </tr>\n",
       "    <tr>\n",
       "      <th>3.0000</th>\n",
       "      <td>0.0010</td>\n",
       "      <td>0.2000</td>\n",
       "      <td>0.0001</td>\n",
       "    </tr>\n",
       "    <tr>\n",
       "      <th>3.0000</th>\n",
       "      <td>0.0010</td>\n",
       "      <td>0.2000</td>\n",
       "      <td>0.0010</td>\n",
       "    </tr>\n",
       "  </tbody>\n",
       "</table>\n",
       "</div>"
      ],
      "text/plain": [
       "errors  tau_0     mu  gamma\n",
       "1.0000 0.0010 0.1000 0.0100\n",
       "1.0000 0.0010 0.2000 0.0100\n",
       "1.0000 0.0010 0.5000 0.0010\n",
       "2.0000 0.0010 0.1000 0.0010\n",
       "2.0000 0.0010 0.5000 0.0001\n",
       "2.0000 0.0100 0.5000 0.0100\n",
       "3.0000 0.0010 0.1000 0.0001\n",
       "3.0000 0.0010 0.2000 0.0001\n",
       "3.0000 0.0010 0.2000 0.0010"
      ]
     },
     "metadata": {},
     "output_type": "display_data"
    },
    {
     "name": "stdout",
     "output_type": "stream",
     "text": [
      "\n",
      "Using  SGD_mom  optimizer.\n",
      "Listing results starting with lowest error score: \n",
      "\n"
     ]
    },
    {
     "data": {
      "text/html": [
       "<div>\n",
       "<style>\n",
       "    .dataframe thead tr:only-child th {\n",
       "        text-align: right;\n",
       "    }\n",
       "\n",
       "    .dataframe thead th {\n",
       "        text-align: left;\n",
       "    }\n",
       "\n",
       "    .dataframe tbody tr th {\n",
       "        vertical-align: top;\n",
       "    }\n",
       "</style>\n",
       "<table border=\"1\" class=\"dataframe\">\n",
       "  <thead>\n",
       "    <tr style=\"text-align: right;\">\n",
       "      <th>errors</th>\n",
       "      <th>tau_0</th>\n",
       "      <th>mu</th>\n",
       "      <th>gamma</th>\n",
       "    </tr>\n",
       "  </thead>\n",
       "  <tbody>\n",
       "    <tr>\n",
       "      <th>1.0000</th>\n",
       "      <td>0.0010</td>\n",
       "      <td>0.2000</td>\n",
       "      <td>0.0010</td>\n",
       "    </tr>\n",
       "    <tr>\n",
       "      <th>2.0000</th>\n",
       "      <td>0.0010</td>\n",
       "      <td>0.1000</td>\n",
       "      <td>0.0001</td>\n",
       "    </tr>\n",
       "    <tr>\n",
       "      <th>2.0000</th>\n",
       "      <td>0.0010</td>\n",
       "      <td>0.1000</td>\n",
       "      <td>0.0100</td>\n",
       "    </tr>\n",
       "    <tr>\n",
       "      <th>2.0000</th>\n",
       "      <td>0.0010</td>\n",
       "      <td>0.2000</td>\n",
       "      <td>0.0001</td>\n",
       "    </tr>\n",
       "    <tr>\n",
       "      <th>2.0000</th>\n",
       "      <td>0.0010</td>\n",
       "      <td>0.5000</td>\n",
       "      <td>0.0010</td>\n",
       "    </tr>\n",
       "    <tr>\n",
       "      <th>2.0000</th>\n",
       "      <td>0.0010</td>\n",
       "      <td>0.5000</td>\n",
       "      <td>0.0100</td>\n",
       "    </tr>\n",
       "    <tr>\n",
       "      <th>3.0000</th>\n",
       "      <td>0.0010</td>\n",
       "      <td>0.2000</td>\n",
       "      <td>0.0100</td>\n",
       "    </tr>\n",
       "    <tr>\n",
       "      <th>4.0000</th>\n",
       "      <td>0.0010</td>\n",
       "      <td>0.1000</td>\n",
       "      <td>0.0010</td>\n",
       "    </tr>\n",
       "    <tr>\n",
       "      <th>7.0000</th>\n",
       "      <td>0.0010</td>\n",
       "      <td>0.5000</td>\n",
       "      <td>0.0001</td>\n",
       "    </tr>\n",
       "  </tbody>\n",
       "</table>\n",
       "</div>"
      ],
      "text/plain": [
       "errors  tau_0     mu  gamma\n",
       "1.0000 0.0010 0.2000 0.0010\n",
       "2.0000 0.0010 0.1000 0.0001\n",
       "2.0000 0.0010 0.1000 0.0100\n",
       "2.0000 0.0010 0.2000 0.0001\n",
       "2.0000 0.0010 0.5000 0.0010\n",
       "2.0000 0.0010 0.5000 0.0100\n",
       "3.0000 0.0010 0.2000 0.0100\n",
       "4.0000 0.0010 0.1000 0.0010\n",
       "7.0000 0.0010 0.5000 0.0001"
      ]
     },
     "metadata": {},
     "output_type": "display_data"
    },
    {
     "name": "stdout",
     "output_type": "stream",
     "text": [
      "\n",
      "Using  ADAM  optimizer.\n",
      "Listing results starting with lowest error score: \n",
      "\n"
     ]
    },
    {
     "data": {
      "text/html": [
       "<div>\n",
       "<style>\n",
       "    .dataframe thead tr:only-child th {\n",
       "        text-align: right;\n",
       "    }\n",
       "\n",
       "    .dataframe thead th {\n",
       "        text-align: left;\n",
       "    }\n",
       "\n",
       "    .dataframe tbody tr th {\n",
       "        vertical-align: top;\n",
       "    }\n",
       "</style>\n",
       "<table border=\"1\" class=\"dataframe\">\n",
       "  <thead>\n",
       "    <tr style=\"text-align: right;\">\n",
       "      <th>errors</th>\n",
       "      <th>tau_0</th>\n",
       "      <th>mu</th>\n",
       "      <th>gamma</th>\n",
       "    </tr>\n",
       "  </thead>\n",
       "  <tbody>\n",
       "    <tr>\n",
       "      <th>1.0000</th>\n",
       "      <td>0.0010</td>\n",
       "      <td>0.5000</td>\n",
       "      <td>0.0010</td>\n",
       "    </tr>\n",
       "    <tr>\n",
       "      <th>1.0000</th>\n",
       "      <td>0.0100</td>\n",
       "      <td>0.1000</td>\n",
       "      <td>0.0100</td>\n",
       "    </tr>\n",
       "    <tr>\n",
       "      <th>2.0000</th>\n",
       "      <td>0.0010</td>\n",
       "      <td>0.5000</td>\n",
       "      <td>0.0001</td>\n",
       "    </tr>\n",
       "    <tr>\n",
       "      <th>2.0000</th>\n",
       "      <td>0.0100</td>\n",
       "      <td>0.2000</td>\n",
       "      <td>0.0100</td>\n",
       "    </tr>\n",
       "    <tr>\n",
       "      <th>2.0000</th>\n",
       "      <td>0.0100</td>\n",
       "      <td>0.5000</td>\n",
       "      <td>0.0001</td>\n",
       "    </tr>\n",
       "    <tr>\n",
       "      <th>2.0000</th>\n",
       "      <td>0.1000</td>\n",
       "      <td>0.1000</td>\n",
       "      <td>0.0100</td>\n",
       "    </tr>\n",
       "    <tr>\n",
       "      <th>3.0000</th>\n",
       "      <td>0.0010</td>\n",
       "      <td>0.1000</td>\n",
       "      <td>0.0010</td>\n",
       "    </tr>\n",
       "    <tr>\n",
       "      <th>3.0000</th>\n",
       "      <td>0.0010</td>\n",
       "      <td>0.1000</td>\n",
       "      <td>0.0100</td>\n",
       "    </tr>\n",
       "    <tr>\n",
       "      <th>3.0000</th>\n",
       "      <td>0.0010</td>\n",
       "      <td>0.2000</td>\n",
       "      <td>0.0001</td>\n",
       "    </tr>\n",
       "  </tbody>\n",
       "</table>\n",
       "</div>"
      ],
      "text/plain": [
       "errors  tau_0     mu  gamma\n",
       "1.0000 0.0010 0.5000 0.0010\n",
       "1.0000 0.0100 0.1000 0.0100\n",
       "2.0000 0.0010 0.5000 0.0001\n",
       "2.0000 0.0100 0.2000 0.0100\n",
       "2.0000 0.0100 0.5000 0.0001\n",
       "2.0000 0.1000 0.1000 0.0100\n",
       "3.0000 0.0010 0.1000 0.0010\n",
       "3.0000 0.0010 0.1000 0.0100\n",
       "3.0000 0.0010 0.2000 0.0001"
      ]
     },
     "metadata": {},
     "output_type": "display_data"
    },
    {
     "name": "stdout",
     "output_type": "stream",
     "text": [
      "\n",
      "Using  DualCA  optimizer.\n",
      "Listing results starting with lowest error score: \n",
      "\n"
     ]
    },
    {
     "data": {
      "text/html": [
       "<div>\n",
       "<style>\n",
       "    .dataframe thead tr:only-child th {\n",
       "        text-align: right;\n",
       "    }\n",
       "\n",
       "    .dataframe thead th {\n",
       "        text-align: left;\n",
       "    }\n",
       "\n",
       "    .dataframe tbody tr th {\n",
       "        vertical-align: top;\n",
       "    }\n",
       "</style>\n",
       "<table border=\"1\" class=\"dataframe\">\n",
       "  <thead>\n",
       "    <tr style=\"text-align: right;\">\n",
       "      <th>errors</th>\n",
       "      <th>tau_0</th>\n",
       "      <th>mu</th>\n",
       "      <th>gamma</th>\n",
       "    </tr>\n",
       "  </thead>\n",
       "  <tbody>\n",
       "    <tr>\n",
       "      <th>9.0000</th>\n",
       "      <td>0.1000</td>\n",
       "      <td>0.5000</td>\n",
       "      <td>0.0001</td>\n",
       "    </tr>\n",
       "    <tr>\n",
       "      <th>11.0000</th>\n",
       "      <td>0.0010</td>\n",
       "      <td>0.2000</td>\n",
       "      <td>0.0001</td>\n",
       "    </tr>\n",
       "    <tr>\n",
       "      <th>14.0000</th>\n",
       "      <td>0.0100</td>\n",
       "      <td>0.2000</td>\n",
       "      <td>0.0010</td>\n",
       "    </tr>\n",
       "    <tr>\n",
       "      <th>16.0000</th>\n",
       "      <td>0.1000</td>\n",
       "      <td>0.2000</td>\n",
       "      <td>0.0001</td>\n",
       "    </tr>\n",
       "    <tr>\n",
       "      <th>17.0000</th>\n",
       "      <td>0.0010</td>\n",
       "      <td>0.1000</td>\n",
       "      <td>0.0001</td>\n",
       "    </tr>\n",
       "    <tr>\n",
       "      <th>18.0000</th>\n",
       "      <td>0.0010</td>\n",
       "      <td>0.5000</td>\n",
       "      <td>0.0001</td>\n",
       "    </tr>\n",
       "    <tr>\n",
       "      <th>19.0000</th>\n",
       "      <td>0.1000</td>\n",
       "      <td>0.1000</td>\n",
       "      <td>0.0010</td>\n",
       "    </tr>\n",
       "    <tr>\n",
       "      <th>20.0000</th>\n",
       "      <td>0.0010</td>\n",
       "      <td>0.1000</td>\n",
       "      <td>0.0100</td>\n",
       "    </tr>\n",
       "    <tr>\n",
       "      <th>21.0000</th>\n",
       "      <td>0.0100</td>\n",
       "      <td>0.5000</td>\n",
       "      <td>0.0001</td>\n",
       "    </tr>\n",
       "  </tbody>\n",
       "</table>\n",
       "</div>"
      ],
      "text/plain": [
       "errors   tau_0     mu  gamma\n",
       "9.0000  0.1000 0.5000 0.0001\n",
       "11.0000 0.0010 0.2000 0.0001\n",
       "14.0000 0.0100 0.2000 0.0010\n",
       "16.0000 0.1000 0.2000 0.0001\n",
       "17.0000 0.0010 0.1000 0.0001\n",
       "18.0000 0.0010 0.5000 0.0001\n",
       "19.0000 0.1000 0.1000 0.0010\n",
       "20.0000 0.0010 0.1000 0.0100\n",
       "21.0000 0.0100 0.5000 0.0001"
      ]
     },
     "metadata": {},
     "output_type": "display_data"
    },
    {
     "name": "stdout",
     "output_type": "stream",
     "text": [
      "\n",
      "Using  NR  optimizer.\n",
      "Listing results starting with lowest error score: \n",
      "\n"
     ]
    },
    {
     "data": {
      "text/html": [
       "<div>\n",
       "<style>\n",
       "    .dataframe thead tr:only-child th {\n",
       "        text-align: right;\n",
       "    }\n",
       "\n",
       "    .dataframe thead th {\n",
       "        text-align: left;\n",
       "    }\n",
       "\n",
       "    .dataframe tbody tr th {\n",
       "        vertical-align: top;\n",
       "    }\n",
       "</style>\n",
       "<table border=\"1\" class=\"dataframe\">\n",
       "  <thead>\n",
       "    <tr style=\"text-align: right;\">\n",
       "      <th>errors</th>\n",
       "      <th>tau_0</th>\n",
       "      <th>mu</th>\n",
       "      <th>gamma</th>\n",
       "    </tr>\n",
       "  </thead>\n",
       "  <tbody>\n",
       "    <tr>\n",
       "      <th>3.0000</th>\n",
       "      <td>0.0010</td>\n",
       "      <td>0.1000</td>\n",
       "      <td>0.0001</td>\n",
       "    </tr>\n",
       "    <tr>\n",
       "      <th>3.0000</th>\n",
       "      <td>0.0010</td>\n",
       "      <td>0.1000</td>\n",
       "      <td>0.0010</td>\n",
       "    </tr>\n",
       "    <tr>\n",
       "      <th>3.0000</th>\n",
       "      <td>0.0010</td>\n",
       "      <td>0.1000</td>\n",
       "      <td>0.0100</td>\n",
       "    </tr>\n",
       "    <tr>\n",
       "      <th>3.0000</th>\n",
       "      <td>0.0010</td>\n",
       "      <td>0.2000</td>\n",
       "      <td>0.0001</td>\n",
       "    </tr>\n",
       "    <tr>\n",
       "      <th>3.0000</th>\n",
       "      <td>0.0010</td>\n",
       "      <td>0.2000</td>\n",
       "      <td>0.0010</td>\n",
       "    </tr>\n",
       "    <tr>\n",
       "      <th>3.0000</th>\n",
       "      <td>0.0010</td>\n",
       "      <td>0.2000</td>\n",
       "      <td>0.0100</td>\n",
       "    </tr>\n",
       "    <tr>\n",
       "      <th>3.0000</th>\n",
       "      <td>0.0010</td>\n",
       "      <td>0.5000</td>\n",
       "      <td>0.0001</td>\n",
       "    </tr>\n",
       "    <tr>\n",
       "      <th>3.0000</th>\n",
       "      <td>0.0010</td>\n",
       "      <td>0.5000</td>\n",
       "      <td>0.0010</td>\n",
       "    </tr>\n",
       "    <tr>\n",
       "      <th>3.0000</th>\n",
       "      <td>0.0010</td>\n",
       "      <td>0.5000</td>\n",
       "      <td>0.0100</td>\n",
       "    </tr>\n",
       "  </tbody>\n",
       "</table>\n",
       "</div>"
      ],
      "text/plain": [
       "errors  tau_0     mu  gamma\n",
       "3.0000 0.0010 0.1000 0.0001\n",
       "3.0000 0.0010 0.1000 0.0010\n",
       "3.0000 0.0010 0.1000 0.0100\n",
       "3.0000 0.0010 0.2000 0.0001\n",
       "3.0000 0.0010 0.2000 0.0010\n",
       "3.0000 0.0010 0.2000 0.0100\n",
       "3.0000 0.0010 0.5000 0.0001\n",
       "3.0000 0.0010 0.5000 0.0010\n",
       "3.0000 0.0010 0.5000 0.0100"
      ]
     },
     "metadata": {},
     "output_type": "display_data"
    },
    {
     "name": "stdout",
     "output_type": "stream",
     "text": [
      "\n",
      " \n",
      " Overall best parameters: \n",
      "\n"
     ]
    },
    {
     "data": {
      "text/html": [
       "<div>\n",
       "<style>\n",
       "    .dataframe thead tr:only-child th {\n",
       "        text-align: right;\n",
       "    }\n",
       "\n",
       "    .dataframe thead th {\n",
       "        text-align: left;\n",
       "    }\n",
       "\n",
       "    .dataframe tbody tr th {\n",
       "        vertical-align: top;\n",
       "    }\n",
       "</style>\n",
       "<table border=\"1\" class=\"dataframe\">\n",
       "  <thead>\n",
       "    <tr style=\"text-align: right;\">\n",
       "      <th>optimizer</th>\n",
       "      <th>tau</th>\n",
       "      <th>mu</th>\n",
       "      <th>gamma</th>\n",
       "    </tr>\n",
       "  </thead>\n",
       "  <tbody>\n",
       "    <tr>\n",
       "      <th>GD</th>\n",
       "      <td>0.0010</td>\n",
       "      <td>0.1000</td>\n",
       "      <td>0.0100</td>\n",
       "    </tr>\n",
       "    <tr>\n",
       "      <th>SGD</th>\n",
       "      <td>0.0010</td>\n",
       "      <td>0.1000</td>\n",
       "      <td>0.0100</td>\n",
       "    </tr>\n",
       "    <tr>\n",
       "      <th>SGD_mini</th>\n",
       "      <td>0.0010</td>\n",
       "      <td>0.1000</td>\n",
       "      <td>0.0100</td>\n",
       "    </tr>\n",
       "    <tr>\n",
       "      <th>SGD_mom</th>\n",
       "      <td>0.0010</td>\n",
       "      <td>0.2000</td>\n",
       "      <td>0.0010</td>\n",
       "    </tr>\n",
       "    <tr>\n",
       "      <th>ADAM</th>\n",
       "      <td>0.0010</td>\n",
       "      <td>0.5000</td>\n",
       "      <td>0.0010</td>\n",
       "    </tr>\n",
       "    <tr>\n",
       "      <th>DualCA</th>\n",
       "      <td>0.1000</td>\n",
       "      <td>0.5000</td>\n",
       "      <td>0.0001</td>\n",
       "    </tr>\n",
       "    <tr>\n",
       "      <th>NR</th>\n",
       "      <td>0.0010</td>\n",
       "      <td>0.1000</td>\n",
       "      <td>0.0001</td>\n",
       "    </tr>\n",
       "  </tbody>\n",
       "</table>\n",
       "</div>"
      ],
      "text/plain": [
       "optimizer    tau     mu  gamma\n",
       "GD        0.0010 0.1000 0.0100\n",
       "SGD       0.0010 0.1000 0.0100\n",
       "SGD_mini  0.0010 0.1000 0.0100\n",
       "SGD_mom   0.0010 0.2000 0.0010\n",
       "ADAM      0.0010 0.5000 0.0010\n",
       "DualCA    0.1000 0.5000 0.0001\n",
       "NR        0.0010 0.1000 0.0001"
      ]
     },
     "metadata": {},
     "output_type": "display_data"
    }
   ],
   "source": [
    "params = list_n_best(X, y, 10, optimizers, tau, mu, gamma)"
   ]
  },
  {
   "cell_type": "markdown",
   "metadata": {
    "collapsed": true
   },
   "source": [
    " ## speed test"
   ]
  },
  {
   "cell_type": "code",
   "execution_count": null,
   "metadata": {
    "collapsed": true
   },
   "outputs": [],
   "source": []
  }
 ],
 "metadata": {
  "kernelspec": {
   "display_name": "Python 3",
   "language": "python",
   "name": "python3"
  },
  "language_info": {
   "codemirror_mode": {
    "name": "ipython",
    "version": 3
   },
   "file_extension": ".py",
   "mimetype": "text/x-python",
   "name": "python",
   "nbconvert_exporter": "python",
   "pygments_lexer": "ipython3",
   "version": "3.6.2"
  }
 },
 "nbformat": 4,
 "nbformat_minor": 2
}
