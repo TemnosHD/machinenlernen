{
 "cells": [
  {
   "cell_type": "code",
   "execution_count": 2,
   "metadata": {
    "collapsed": true
   },
   "outputs": [],
   "source": [
    "import numpy as np"
   ]
  },
  {
   "cell_type": "markdown",
   "metadata": {},
   "source": [
    "# Exercise 3 -  Weather Forecast using a Markov Chain"
   ]
  },
  {
   "cell_type": "markdown",
   "metadata": {},
   "source": [
    "The task is to classify the weather on an arbitrary day $n$, where the weather is specified by $t_n \\in \\{rainy, cloudy, sunny \\}$. "
   ]
  },
  {
   "cell_type": "markdown",
   "metadata": {},
   "source": [
    "#### a)\n",
    "\n",
    "The transition probabilities from day $n-1$ to day $n$ are given as follows:\n",
    "\n",
    "\\begin{align*}\n",
    "p_{r, r} = 0.2 \\: ; \\: p_{c, r} = 0.7 \\: ; \\: p_{s, r} = 0.1 \\\\\n",
    "p_{r, c} = 0.2 \\: ; \\: p_{c, c} = 0.6 \\: ; \\: p_{s, c} = 0.2\\\\\n",
    "p_{r, s} = 0.4 \\: ; \\: p_{c, s} = 0.3 \\: ; \\: p_{s, s} = 0.3\\\\\n",
    "\\end{align*}\n",
    "\n",
    "where we introduced the shorthand-notation $p_{i, j} := p\\left( t_n = i \\: \\big|\\:  t_{n-1} = j \\right)$ and the abbreviations $r = rainy$, $s = sunny$ and $c = cloudy$.\n",
    "\n",
    "The missing conditional probabilities were computed by using the condition:\n",
    "\n",
    "$$ \\sum_i p_{i, j}  = 1 $$"
   ]
  },
  {
   "cell_type": "markdown",
   "metadata": {},
   "source": [
    "#### b) \n",
    "\n",
    "--"
   ]
  },
  {
   "cell_type": "markdown",
   "metadata": {},
   "source": [
    "#### c) \n",
    "\n",
    "Consider a given probability vector \n",
    "$$ \\mathbf{p}(t_0) = \\begin{pmatrix} p(t_0 = r) \\\\ p(t_0 = c) \\\\ p(t_0 = s) \\end{pmatrix}$$\n",
    "\n",
    "The probabilities after one day, i.e. $\\mathbf{p}(t_0)$ are then given by \n",
    "\n",
    "$$ p(t_1 = j) = \\sum_i p_{j,i} \\cdot p(t_0 = i) $$"
   ]
  },
  {
   "cell_type": "markdown",
   "metadata": {},
   "source": [
    "#### d) \n",
    "\n",
    "The above formula can be cast into matrix form:\n",
    "\n",
    "$$  \\mathbf{p}(t_1) = \\mathcal{P}^{\\text{T}}\\, \\mathbf{p}(t_0) \\equiv \\mathbf{M} \\, \\mathbf{p}(t_0) $$\n",
    "\n",
    "by defining the transition matrix \n",
    "\n",
    "$$ \\mathcal{P} = \\begin{pmatrix} p_{r, r} & p_{c, r} & p_{s, r} \\\\\n",
    "                                 p_{r, c} & p_{c, c} & p_{s, c} \\\\\n",
    "                                 p_{r, s} & p_{c, s} & p_{s, s} \\\\ \n",
    "                                 \\end{pmatrix} = \\begin{pmatrix} 0.2 & 0.7 & 0.1 \\\\\n",
    "                                 0.2 & 0.6 & 0.2 \\\\\n",
    "                                 0.4 & 0.3 & 0.3 \\\\ \n",
    "                                 \\end{pmatrix}\n",
    "$$\n",
    "\n",
    "The numerical computation for $\\mathbf{p}(t_0) = \\left(0.5, 0.25, 0.25 \\right)^{\\text{T}}$ is demonstrated below."
   ]
  },
  {
   "cell_type": "code",
   "execution_count": 75,
   "metadata": {},
   "outputs": [
    {
     "name": "stdout",
     "output_type": "stream",
     "text": [
      "p1:  [ 0.25   0.575  0.175]\n"
     ]
    }
   ],
   "source": [
    "# numerical computation:\n",
    "P = np.array([[0.2, 0.7, 0.1], [0.2, 0.6, 0.2], [0.4, 0.3, 0.3]])\n",
    "p0 = np.array([0.5, 0.25, 0.25])\n",
    "M = P.T\n",
    "print('p1: ', M@p0)"
   ]
  },
  {
   "cell_type": "markdown",
   "metadata": {},
   "source": [
    "Hence, $\\mathbf{p}(t_1) = \\mathcal{P}^{\\text{T}}\\, \\mathbf{p}(t_0) = \\left(0.25, 0.575, 0.175 \\right)^{\\text{T}}.$"
   ]
  },
  {
   "cell_type": "markdown",
   "metadata": {},
   "source": [
    "#### e) \n",
    "\n",
    "The above formula can be easily generalized to arbitrary times:\n",
    "\n",
    "$$  \\mathbf{p}(t_n) =  \\mathbf{M}^n \\, \\mathbf{p}(t_0) $$\n",
    "\n",
    "with $n \\geq 1$."
   ]
  },
  {
   "cell_type": "code",
   "execution_count": 74,
   "metadata": {},
   "outputs": [
    {
     "name": "stdout",
     "output_type": "stream",
     "text": [
      "p100:  [ 0.23913043  0.56521739  0.19565217]\n"
     ]
    }
   ],
   "source": [
    "print('p100: ', np.linalg.matrix_power(P.T, 100) @ p0)"
   ]
  },
  {
   "cell_type": "markdown",
   "metadata": {},
   "source": [
    "#### f)\n",
    "\n",
    "The steady state $\\mathbf{s} = \\lim_{n \\to \\infty} \\mathbf{p}(t_n)$ of the system is given by \n",
    "$$ \\mathbf{s}_{} = \\mathbf{M} \\, \\mathbf{s} $$\n",
    "hence, it can be calculated by solving the homogenous equation\n",
    "$$ 0 = (\\mathbf{M} - {\\mathbb{I}} )\\, \\mathbf{s} $$\n",
    "and using the fact that $\\sum_i s_i = 1$, i.e. $\\mathbf{s}$ is a probability vector; or, alternatively, compute the eigenvector for the eigenvalue problem \n",
    "$$\\det{\\mathbf{M - \\lambda \\mathbb{I}}} = 0 $$\n",
    "for $\\lambda = 1$."
   ]
  },
  {
   "cell_type": "code",
   "execution_count": 65,
   "metadata": {},
   "outputs": [
    {
     "name": "stdout",
     "output_type": "stream",
     "text": [
      "steady state:  [ 0.23913043+0.j  0.56521739+0.j  0.19565217+0.j]\n"
     ]
    }
   ],
   "source": [
    "# use the fact that the abs. max. eigenvalue is 1.0\n",
    "s = np.linalg.eig(M)[1][:, np.argmax(np.absolute(np.linalg.eig(M)[0]))]  \n",
    "# rescale\n",
    "s = (1./(np.sum(s))) * s\n",
    "print('steady state: ', s)"
   ]
  },
  {
   "cell_type": "markdown",
   "metadata": {
    "collapsed": true
   },
   "source": [
    "Hence, the (rounded) steady state is given by \n",
    "$$ \\mathbf{s} \\approx \\begin{pmatrix} 0.240 \\\\ 0.565 \\\\ 0.195 \\end{pmatrix} = \\begin{pmatrix} s_r \\\\ s_c \\\\ s_s \\end{pmatrix}$$\n",
    "\n",
    "in accordance with exercise *e).*"
   ]
  }
 ],
 "metadata": {
  "kernelspec": {
   "display_name": "Python 3",
   "language": "python",
   "name": "python3"
  },
  "language_info": {
   "codemirror_mode": {
    "name": "ipython",
    "version": 3
   },
   "file_extension": ".py",
   "mimetype": "text/x-python",
   "name": "python",
   "nbconvert_exporter": "python",
   "pygments_lexer": "ipython3",
   "version": "3.6.1"
  }
 },
 "nbformat": 4,
 "nbformat_minor": 2
}
