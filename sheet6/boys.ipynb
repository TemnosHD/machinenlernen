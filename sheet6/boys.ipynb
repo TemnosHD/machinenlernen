{
 "cells": [
  {
   "cell_type": "markdown",
   "metadata": {},
   "source": [
    "# Exercise 2.2"
   ]
  },
  {
   "cell_type": "code",
   "execution_count": 1,
   "metadata": {
    "collapsed": true
   },
   "outputs": [],
   "source": [
    "import numpy as np"
   ]
  },
  {
   "cell_type": "markdown",
   "metadata": {},
   "source": [
    "First, we draw the samples for each child. Concerning the sex, 1 represents a boy and 0 a girl. As for the day of birth, we draw integer numbers between 0 and 6, where 0 represents Monday, 1 Tuesday and so on. For the date of birth, we analogously draw numbers between 0 and 365 where 0 represents 1st of January, 2 represents 2nd of January and so on."
   ]
  },
  {
   "cell_type": "code",
   "execution_count": 36,
   "metadata": {},
   "outputs": [],
   "source": [
    "np.random.seed(43)\n",
    "N = 10000000\n",
    "[sex1, sex2] = np.random.randint(0,2,size=(2,N))\n",
    "[day1, day2] = np.random.randint(0,7,size=(2,N))\n",
    "[date1, date2] = np.random.randint(0,365,size=(2,N))"
   ]
  },
  {
   "cell_type": "markdown",
   "metadata": {},
   "source": [
    "Case 1: No additional information"
   ]
  },
  {
   "cell_type": "code",
   "execution_count": 37,
   "metadata": {},
   "outputs": [
    {
     "name": "stdout",
     "output_type": "stream",
     "text": [
      "0.2499826\n"
     ]
    }
   ],
   "source": [
    "p = np.sum(sex1 * sex2) / N\n",
    "print(p)"
   ]
  },
  {
   "cell_type": "markdown",
   "metadata": {},
   "source": [
    "The rate of (boy,boy) agrees with the probability derived in lecture ($p_1=1/4$)"
   ]
  },
  {
   "cell_type": "markdown",
   "metadata": {},
   "source": [
    "Case 2: Create a subset, where at least one of the children is a boy."
   ]
  },
  {
   "cell_type": "code",
   "execution_count": 38,
   "metadata": {},
   "outputs": [
    {
     "name": "stdout",
     "output_type": "stream",
     "text": [
      "0.333281160091\n"
     ]
    }
   ],
   "source": [
    "subset1 = sex1[(sex1==1) + (sex2==1)]\n",
    "subset2 = sex2[(sex1==1) + (sex2==1)]\n",
    "p = np.sum(subset1 * subset2) / len(subset1)\n",
    "print(p)"
   ]
  },
  {
   "cell_type": "markdown",
   "metadata": {},
   "source": [
    "Agrees with $p_2 = 1/3$."
   ]
  },
  {
   "cell_type": "markdown",
   "metadata": {},
   "source": [
    "Case 3: The older child (child1) is boy"
   ]
  },
  {
   "cell_type": "code",
   "execution_count": 39,
   "metadata": {},
   "outputs": [
    {
     "name": "stdout",
     "output_type": "stream",
     "text": [
      "0.499941102839\n"
     ]
    }
   ],
   "source": [
    "subset = sex2[sex1==1]\n",
    "p = np.sum(subset) / len(subset)\n",
    "print(p)"
   ]
  },
  {
   "cell_type": "markdown",
   "metadata": {},
   "source": [
    "Agrees with $p_3=1/2$"
   ]
  },
  {
   "cell_type": "markdown",
   "metadata": {},
   "source": [
    "Case 4: Sunday corresponds to day=6 in our data. So create a subset where at least one of the children is a boy and has birthday on sunday."
   ]
  },
  {
   "cell_type": "code",
   "execution_count": 40,
   "metadata": {},
   "outputs": [
    {
     "name": "stdout",
     "output_type": "stream",
     "text": [
      "0.481613426119\n"
     ]
    }
   ],
   "source": [
    "subset1 = sex1[((sex1==1) * (day1==6)) + ((sex2==1) * (day2==6))]\n",
    "subset2 = sex2[((sex1==1) * (day1==6)) + ((sex2==1) * (day2==6))]\n",
    "p = np.sum(subset1 * subset2) / len(subset1)\n",
    "print(p)"
   ]
  },
  {
   "cell_type": "markdown",
   "metadata": {},
   "source": [
    "Agrees with $p_4=\\frac{2\\cdot 7-1}{4\\cdot 7-1}=13/27\\approx 0.48148$"
   ]
  },
  {
   "cell_type": "markdown",
   "metadata": {},
   "source": [
    "Case 5: Let's define \"today\" as the 150th day of the year corresponding to date=149 in our date. So create a subset where at least one of the children is a boy and has birthday today."
   ]
  },
  {
   "cell_type": "code",
   "execution_count": 44,
   "metadata": {},
   "outputs": [
    {
     "name": "stdout",
     "output_type": "stream",
     "text": [
      "0.502396514161\n"
     ]
    }
   ],
   "source": [
    "date = 150\n",
    "subset1 = sex1[((sex1==1) * (date1==date)) + ((sex2==1) * (date_2==date))]\n",
    "subset2 = sex2[((sex1==1) * (date1==date)) + ((sex2==1) * (date_2==date))]\n",
    "p = np.sum(subset1 * subset2) / len(subset1)\n",
    "print(p)"
   ]
  },
  {
   "cell_type": "markdown",
   "metadata": {},
   "source": [
    "Approximately agrees with $p_5=\\frac{2\\cdot 365-1}{4\\cdot 365-1}=729/1459\\approx 0.499657$, but the accuracy depends on the chosen day. For date=150 for example, our sampled probability is larger than 1/2 ($\\approx 0.5024). Thus, we would have to further increase the overall sample size to obtain more accurate results also in this case."
   ]
  }
 ],
 "metadata": {
  "kernelspec": {
   "display_name": "Python 3",
   "language": "python",
   "name": "python3"
  },
  "language_info": {
   "codemirror_mode": {
    "name": "ipython",
    "version": 3
   },
   "file_extension": ".py",
   "mimetype": "text/x-python",
   "name": "python",
   "nbconvert_exporter": "python",
   "pygments_lexer": "ipython3",
   "version": "3.6.2"
  }
 },
 "nbformat": 4,
 "nbformat_minor": 2
}
