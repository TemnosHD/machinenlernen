{
 "cells": [
  {
   "cell_type": "code",
   "execution_count": 1,
   "metadata": {
    "collapsed": true
   },
   "outputs": [],
   "source": [
    "import numpy as np"
   ]
  },
  {
   "cell_type": "markdown",
   "metadata": {},
   "source": [
    "# Exercise 1.1: The way out"
   ]
  },
  {
   "cell_type": "code",
   "execution_count": 2,
   "metadata": {
    "collapsed": true
   },
   "outputs": [],
   "source": [
    "M = np.load('maze.npy')"
   ]
  },
  {
   "cell_type": "markdown",
   "metadata": {},
   "source": [
    "First, we set the diagonal elements of $M$ to zero. $M_{ii}=1$ (as given) would imply that the random walker stays with non-zero probability in the same room within one time step. However, we assume that this does not happen since it would contradict the toy example on the exercise sheet."
   ]
  },
  {
   "cell_type": "code",
   "execution_count": 3,
   "metadata": {
    "collapsed": true
   },
   "outputs": [],
   "source": [
    "for i in range(M.shape[0]):\n",
    "    M[i,i] = 0"
   ]
  },
  {
   "cell_type": "markdown",
   "metadata": {},
   "source": [
    "First, we find the shortest way out using the breadth-first search algorithm."
   ]
  },
  {
   "cell_type": "code",
   "execution_count": 4,
   "metadata": {
    "collapsed": true
   },
   "outputs": [],
   "source": [
    "def breadth_search(starting_point, goal, M):\n",
    "    '''\n",
    "    Find the shortest way from starting point to goal in the maze specified by M using the breadth first algorithm.\n",
    "    '''\n",
    "    parent_dict = {} # store the parents of each visited node in a dictionary to be able to reconstruct the shortes path\n",
    "    visited = np.zeros(M.shape[0]) # store if room has been visited (0=False, 1=True)\n",
    "    visited[starting_point] = 1\n",
    "    queue = [] # store all rooms that still have to be checked\n",
    "    queue.append(starting_point)\n",
    "    counter = 0 # index of next element in queue to be chosen\n",
    "    while counter <= len(queue): \n",
    "        curr_room = queue[counter] # select next element from queue to check\n",
    "        if curr_room == goal:\n",
    "            break\n",
    "\n",
    "        neighbours = np.nonzero(M[curr_room,:]) # find all neighbouring rooms of current room\n",
    "        for neighbour in neighbours[0]:\n",
    "            # check if room has already been checked; if this is the case, it can be neglected now\n",
    "            if visited[neighbour] == 0: \n",
    "                queue.append(neighbour) # put room into the queue\n",
    "                parent_dict[neighbour] = curr_room # save the parent room in the dict\n",
    "                visited[neighbour] = 1 \n",
    "        counter += 1\n",
    "        \n",
    "    if counter > len(queue):\n",
    "        return 'There is no way out.'\n",
    "    \n",
    "    path = [curr_room]\n",
    "    # reconstruct the path with help of the dictionary\n",
    "    while curr_room != starting_point:\n",
    "        curr_room = parent_dict[curr_room]\n",
    "        path.append(curr_room)\n",
    "    \n",
    "    return len(path), list(reversed(path))"
   ]
  },
  {
   "cell_type": "code",
   "execution_count": 7,
   "metadata": {},
   "outputs": [
    {
     "name": "stdout",
     "output_type": "stream",
     "text": [
      "minimal path length: 14\n",
      "[0, 1, 4, 78, 77, 80, 83, 84, 85, 89, 91, 94, 96, 99]\n"
     ]
    }
   ],
   "source": [
    "steps, shortest_path = breadth_search(0,99,M)\n",
    "print('minimal path length: ' + str(steps))\n",
    "print(shortest_path)"
   ]
  },
  {
   "cell_type": "markdown",
   "metadata": {},
   "source": [
    "The list above displays the sequence of rooms when taking the shortest way out which consists of 14 rooms including starting and target room"
   ]
  },
  {
   "cell_type": "markdown",
   "metadata": {},
   "source": [
    "In order to derive transition probabilites from the matrix $M$, we have to normalize each row of $M$. The transition matrix is then given by $P'_{ij}=\\frac{M_{ij}}{\\sum_{j=0}^{99}M_{ij}}$, where $P'_{ij}$ now denotes the probability to go from room $i$ to room $j$."
   ]
  },
  {
   "cell_type": "code",
   "execution_count": 9,
   "metadata": {
    "collapsed": true
   },
   "outputs": [],
   "source": [
    "P = (M.T / np.maximum(0.001, np.sum(M, axis=1))).T \n",
    "# prevent division by zero for rows only containing zeros (=isolated rooms)"
   ]
  },
  {
   "cell_type": "markdown",
   "metadata": {},
   "source": [
    "Now we want to derive a method to find the most likely between 2 rooms in the maze. For this purpose we firstly observe that the most likely path must consist of at least as many rooms as the shortest path (which can be found using the algorithm above) and maximally 100 rooms (if it would be more rooms, at least one room would have been visited twice and it could no longer be the most probable path).<br>\n",
    "Now our idea is to use the Viterbi algorithm in order to find the most probable path and the corresponding probability for a fixed path length $N_T$. This can be repeated for all possible path lengths between the shortest and longest (100 rooms) path. Then we select the most probable one of those pathes, which is the overall most probable path to get from room $i$ to $j$.<br>\n",
    "In order to apply the Viterbi algorithm, we first have to define observation space, state space, initial probabilities, sequence of observations, the transition matrix and the emission matrix, which is done as follows:\n",
    "<ul>\n",
    "<li>The state space consists of all $N_K=100$ rooms of the maze and is thus given by $S=\\{0,1,2,3,...,98,99\\}$</li>\n",
    "<li>We define the observation space as $O=\\{0,1,2\\}$, where 0 represents the observation when being in starting room $i$, 1 the observation for the target room $j$ and 2 the observation for any other room in between.</li>\n",
    "<li>Then, the sequence of observations is given by $Y=(0,\\underbrace{2,2,2,2,...,2,2,2}_{N_T-2\\mathrm{times}},1)$ because we start in room $i$ ($\\hat{=}$ observation 0), end in room $j$ ($\\hat{=}$ observation 1) and are in other rooms during all other states ($\\hat{=}$ observation 2).</li>\n",
    "<li>The initial probabilities must obviously be given by a $N_K$-dimensional array $\\Pi$ with $\\Pi_k=\\begin{cases}1&\\mathrm{if}\\quad k=i\\\\0&\\mathrm{else}\\end{cases}$ since we certainly begin in room $i$.</li>\n",
    "<li>Finally, the transition matrix is simply the transition matrix derived above whereas the emission matrix is a $N_k\\times 3$-dimensional matrix $B$, where $B_{kl}$ denotes the probability of observation $O_l$ given state $S_k$. In our case, it is thus given by $B_{k1}=\\begin{cases}1&\\mathrm{if}\\quad k=i\\\\0&\\mathrm{else}\\end{cases}$, $B_{k2}=\\begin{cases}1&\\mathrm{if}\\quad k=j\\\\0&\\mathrm{else}\\end{cases}$ and $B_{k3}=\\begin{cases}0&\\mathrm{if}\\quad k=i\\lor k=j\\\\1&\\mathrm{else}\\end{cases}$ since we definitely know that rooms $i$ and $j$ are starting and target room respectively and all other rooms are just intermediate rooms.</li></ul>\n",
    "This choice of emission matrix $B$ and intial probability $\\Pi$ illustrates that our Markov chain is inherently no Hidden Markov Model. But in order to apply the Viterbi algorithm, we had to represent it this way."
   ]
  },
  {
   "cell_type": "code",
   "execution_count": 10,
   "metadata": {
    "collapsed": true
   },
   "outputs": [],
   "source": [
    "def Viterbi(O, S, PI, Y, A, B):\n",
    "    '''\n",
    "    Implementation of the Viterbi algorithm using the nomenclature from https://en.wikipedia.org/wiki/Viterbi_algorithm:\n",
    "    O: observation space\n",
    "    S: state space\n",
    "    PI: array of initial probabilites: PI[i] = p(x_1 = S[i])\n",
    "    Y: sequence of observations: y[i] = j if y[i] = O[j] \n",
    "    A: transition matrix\n",
    "    B: emission matrix: B_{ij} = p(y_j=o_j | x_i)\n",
    "    '''\n",
    "    T = len(Y)\n",
    "    K = len(S)\n",
    "    X = np.zeros(T)\n",
    "    T1 = np.zeros([K,T])\n",
    "    T2 = np.zeros([K,T])\n",
    "    index = Y[0].astype(int)\n",
    "    T1[:,0] = PI * B[:,index]\n",
    "    T2[:,0] = 0\n",
    "    \n",
    "    for i in range(1,T):\n",
    "        for j in range(K):\n",
    "            index = Y[i].astype(int)\n",
    "            T1[j,i] = np.max(T1[:,i-1] * A[:,j] * B[j,index])\n",
    "            T2[j,i] = np.argmax(T1[:,i-1] * A[:,j] * B[j,index])\n",
    "    \n",
    "    p = np.max(T1[:,T-1]) # p is the probabilits of the most likely chain\n",
    "    index = np.argmax(T1[:,T-1])\n",
    "    X[-1] = S[index] \n",
    "    \n",
    "    for i in range(T-1,0,-1):\n",
    "        index = T2[index,i].astype(int)\n",
    "        X[i-1] = S[index]\n",
    "    \n",
    "    return p,X"
   ]
  },
  {
   "cell_type": "markdown",
   "metadata": {},
   "source": [
    "Now, we want to find the most likely way from room 0 to room 99. From above, we know that the shortest path consists of 14 rooms. Thus, we look for the most likely pathes for all path lenghts between 14 and 100 and then select the most likely one of those."
   ]
  },
  {
   "cell_type": "code",
   "execution_count": 11,
   "metadata": {},
   "outputs": [
    {
     "name": "stdout",
     "output_type": "stream",
     "text": [
      "probability of most likely path: 7.65481089555e-09\n",
      "most likely path: [  0.   1.   4.  78.  79.  80.  83.  84.  85.  89.  91.  94.  96.  99.]\n"
     ]
    }
   ],
   "source": [
    "pathes = []\n",
    "probs = np.zeros(101-14)\n",
    "for N_T in range(14,101):\n",
    "    N_K = 100 # number of states\n",
    "    O = np.array([0,1,2]) # observations space: 0: start, 1: goal, 2: in between \n",
    "    S = np.arange(N_K) # state space\n",
    "    PI = np.zeros(N_K)\n",
    "    PI[0] = 1 # sequence definitely starts in room 0\n",
    "    Y = np.zeros(N_T) # sequence of observations\n",
    "    Y[1:-1] = 2\n",
    "    Y[-1] = 1\n",
    "    A = P # transition matrix\n",
    "    B = np.zeros([N_K, 3]) # emission matrix\n",
    "    B[0,0] = 1\n",
    "    B[1:-1,2] = 1\n",
    "    B[-1,1] = 1\n",
    "    \n",
    "    p,X = Viterbi(O, S, PI, Y, A, B)\n",
    "    probs[N_T-14] = p\n",
    "    pathes.append(X)\n",
    "    \n",
    "most_likely_path = pathes[np.argmax(probs)]\n",
    "most_likely_path_prob = np.max(probs)\n",
    "    \n",
    "print('probability of most likely path: ' + str(most_likely_path_prob))\n",
    "print('most likely path: ' + str(most_likely_path))"
   ]
  },
  {
   "cell_type": "markdown",
   "metadata": {},
   "source": [
    "As one can see, the most likely path has the same length as the shortest path in the beginning. However, the most likely path enters room 79 instead of room 77."
   ]
  },
  {
   "cell_type": "code",
   "execution_count": 12,
   "metadata": {
    "collapsed": true
   },
   "outputs": [],
   "source": [
    "def path_prob(X, P):\n",
    "    '''\n",
    "    Compute the probability of a given path X and a transitions matrix P\n",
    "    '''\n",
    "    room_transitions = [tuple(X[:-1]), tuple(X[1:])]\n",
    "    p = np.prod(P[room_transitions])\n",
    "    return p"
   ]
  },
  {
   "cell_type": "code",
   "execution_count": 13,
   "metadata": {},
   "outputs": [
    {
     "name": "stdout",
     "output_type": "stream",
     "text": [
      "probability of shortest path from above: 6.12384871644e-09\n"
     ]
    }
   ],
   "source": [
    "print('probability of shortest path from above: ' + str(path_prob(shortest_path,P)))"
   ]
  },
  {
   "cell_type": "markdown",
   "metadata": {},
   "source": [
    "Comparing the probabilites of the shortest and the most likely path, we find that they differ by a factor of $\\frac{5}{4}$. This is due to the fact that room 79 has only 4 doors, whereas room 77 has 5 doors. Thus entering room 79, we have a probability of 1/4 to select the \"correct\" door whereas room 77 only offers a corresponding probability of 1/5."
   ]
  },
  {
   "cell_type": "markdown",
   "metadata": {},
   "source": [
    "# Expected traversal time"
   ]
  },
  {
   "cell_type": "markdown",
   "metadata": {},
   "source": [
    "Following the toy example on the exercise sheet, we can write for a maze consisting of $N$ rooms\n",
    "$$\n",
    "h_{ij}=1+\\sum_{k=1}^{N}P_{ik}h_{kj}\\quad\\mathrm{with}\\quad h_{ii}=0\\forall i,\n",
    "$$\n",
    "where $P$ is the transition matrix and $P_{ij}$ denotes the probability to go from room $i$ to room $j$ in a time step. This equation can be arranged in this way for all $i\\neq j$. Rearranging terms provides\n",
    "$$\n",
    "h_{ij}-\\sum_{k=1}^{N}P_{ik}h_{kj}=1\\quad\\forall i\\neq j\n",
    "$$\n",
    "which is a linear system of N-1 equations with N-1 unknown variables ($h_{ij}, i=1...N, i\\neq j$). Defining the matrix\n",
    "    $$\\bar{P}=\\begin{cases}-P_{ij}&\\mathrm{if}\\quad i\\neq j\\\\1&\\mathrm{if}\\quad i=j\\end{cases}$$\n",
    "and let $\\bar{P}_{\\setminus j}$ denote the matrix $\\bar{P}$ without column and row with index $j$ (thus a $(N-1)\\times (N-1)$-matrix), then the system of equations can be rewritten as\n",
    "$$\\bar{P}_{\\setminus j}\\cdot\\vec{h}=\\vec{1}$$\n",
    "where $\\vec{h}_i=h_{ij}$ and $\\vec{1}$ a ($N-1$)-dimensional vector of ones.<br>\n",
    "In principle, this equation can now be solved for $\\vec{h}$ yielding the expected traversal time from all rooms to room j. However, in case of the existence of isolated rooms from which one cannot reach the goal room, the matrix will be singular and cannot be inversed. In this case, we either have to remove the corresponding column and row $k$ of the matrix $\\bar{P}_{\\setminus j}$ if room $k$ is such an isolated room, or we solve the system by minimizing the least squared error.<br>"
   ]
  },
  {
   "cell_type": "markdown",
   "metadata": {},
   "source": [
    "In the present case, in order to compute $h_{0,99}$ we simply remove the columns and rows of the isolated rooms. Here the isolated rooms are 13, 32 and 90 which do not have any door and rooms 73 and 76 which are only connected to each other."
   ]
  },
  {
   "cell_type": "code",
   "execution_count": 21,
   "metadata": {},
   "outputs": [
    {
     "name": "stdout",
     "output_type": "stream",
     "text": [
      "analytically expected traversal time from room 0 to 99: 2202.66393358\n"
     ]
    }
   ],
   "source": [
    "P_bar = np.zeros(P.shape)\n",
    "for i in range(99):\n",
    "    P_bar[i,i]=1\n",
    "    for j in range(99):\n",
    "        if i!=j:\n",
    "            P_bar[i,j] = -P[i,j]\n",
    "P_bar_lsq = P_bar.copy() # for the least squares solver\n",
    "P_bar = np.delete(P_bar,(13,32,73,76,90), axis=0)\n",
    "P_bar = np.delete(P_bar,(13,32,73,76,90), axis=1)\n",
    "b = np.ones(94)\n",
    "b_lsq = np.ones(99)\n",
    "\n",
    "h_099 = np.linalg.solve(P_bar[:-1,:-1],b)[0]\n",
    "print('analytically expected traversal time from room 0 to 99: ' + str(h_099))"
   ]
  },
  {
   "cell_type": "markdown",
   "metadata": {},
   "source": [
    "For comparison, we also provide the least-squares result which coincides with the solution above:"
   ]
  },
  {
   "cell_type": "code",
   "execution_count": 22,
   "metadata": {},
   "outputs": [
    {
     "name": "stdout",
     "output_type": "stream",
     "text": [
      "least_squares solution: h_0,99 = 2202.66393358\n"
     ]
    }
   ],
   "source": [
    "print('least_squares solution: h_0,99 = ' + str(np.linalg.lstsq(P_bar_lsq[:-1,:-1],b_lsq)[0][0]))"
   ]
  },
  {
   "cell_type": "markdown",
   "metadata": {},
   "source": [
    "Now, we want to find the expected traversal time by means of simulating the random walk."
   ]
  },
  {
   "cell_type": "code",
   "execution_count": 23,
   "metadata": {
    "collapsed": true
   },
   "outputs": [],
   "source": [
    "def simulate_RW(start, goal, M):\n",
    "    '''\n",
    "    Simulate a random walk in maze specified by M with given start and goal.\n",
    "    The required amount of steps (=time) will be returned.\n",
    "    '''\n",
    "    curr_room = start\n",
    "    time = 0\n",
    "    while curr_room != goal:\n",
    "        neighbours = np.nonzero(M[curr_room,:])[0]\n",
    "        curr_room = np.random.choice(neighbours)\n",
    "        time += 1\n",
    "    \n",
    "    return time"
   ]
  },
  {
   "cell_type": "markdown",
   "metadata": {},
   "source": [
    " <font color=\"red\">das untere nicht noch einmal ausführen, dauert sehr lange!</font> "
   ]
  },
  {
   "cell_type": "code",
   "execution_count": 27,
   "metadata": {},
   "outputs": [
    {
     "name": "stdout",
     "output_type": "stream",
     "text": [
      "simulation-based expected traversal time from room 0 to 99: 2203.83144\n"
     ]
    }
   ],
   "source": [
    "N = 100000\n",
    "escape_times = np.zeros(N)\n",
    "for i in range(N):\n",
    "    escape_times[i] = simulate_RW(0,99,M)\n",
    "print('simulation-based expected traversal time from room 0 to 99: ' + str(np.average(escape_times)))"
   ]
  },
  {
   "cell_type": "markdown",
   "metadata": {},
   "source": [
    "As one can see, the analytically computed expected traversal time and the average traversal time for 100.000 random walkers coincides very well and deviate by only one time step from each other."
   ]
  }
 ],
 "metadata": {
  "kernelspec": {
   "display_name": "Python 3",
   "language": "python",
   "name": "python3"
  },
  "language_info": {
   "codemirror_mode": {
    "name": "ipython",
    "version": 3
   },
   "file_extension": ".py",
   "mimetype": "text/x-python",
   "name": "python",
   "nbconvert_exporter": "python",
   "pygments_lexer": "ipython3",
   "version": "3.6.2"
  }
 },
 "nbformat": 4,
 "nbformat_minor": 2
}
