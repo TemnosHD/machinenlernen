{
 "cells": [
  {
   "cell_type": "code",
   "execution_count": 53,
   "metadata": {
    "collapsed": true
   },
   "outputs": [],
   "source": [
    "import numpy as np"
   ]
  },
  {
   "cell_type": "markdown",
   "metadata": {},
   "source": [
    "# Exercise 1.1: The way out"
   ]
  },
  {
   "cell_type": "code",
   "execution_count": 54,
   "metadata": {
    "collapsed": true
   },
   "outputs": [],
   "source": [
    "M = np.load('maze.npy')"
   ]
  },
  {
   "cell_type": "markdown",
   "metadata": {},
   "source": [
    "First, we set the diagonal elements of $M$ to zero. $M_{ii}=1$ (as given) would imply that the random walker stays with non-zero probability in the same room within one time step. However, we assume that this does not happen since it would contradict the toy example on the exercise sheet."
   ]
  },
  {
   "cell_type": "code",
   "execution_count": 56,
   "metadata": {},
   "outputs": [],
   "source": [
    "for i in range(M.shape[0]):\n",
    "    M[i,i] = 0"
   ]
  },
  {
   "cell_type": "markdown",
   "metadata": {},
   "source": [
    "First, we find the shortest way out using the breadth search algorithm."
   ]
  },
  {
   "cell_type": "code",
   "execution_count": 57,
   "metadata": {
    "collapsed": true
   },
   "outputs": [],
   "source": [
    "def breadth_search(starting_point, goal, M):\n",
    "    '''\n",
    "    Find the shortest way from starting point to goal in the maze specified by M using the breadth first algorithm.\n",
    "    '''\n",
    "    parent_dict = {} # store the parents of each visited node in a dictionary to be able to reconstruct the shortes path\n",
    "    visited = np.zeros(M.shape[0]) # store if room has been visited (0=False, 1=True)\n",
    "    visited[starting_point] = 1\n",
    "    queue = [] # store all rooms that still have to be checked\n",
    "    queue.append(starting_point)\n",
    "    counter = 0 # index of next element in queue to be chosen\n",
    "    while counter <= len(queue): \n",
    "        curr_room = queue[counter] # select next element from queue to check\n",
    "        if curr_room == goal:\n",
    "            break\n",
    "\n",
    "        neighbours = np.nonzero(M[curr_room,:]) # find all neighbouring rooms of current room\n",
    "        for neighbour in neighbours[0]:\n",
    "            # check if room has already been checked; if this is the case, it can be neglected now\n",
    "            if visited[neighbour] == 0: \n",
    "                queue.append(neighbour) # put room into the queue\n",
    "                parent_dict[neighbour] = curr_room # save the parent room in the dict\n",
    "                visited[neighbour] = 1 \n",
    "        counter += 1\n",
    "        \n",
    "    if counter > len(queue):\n",
    "        return 'There is no way out.'\n",
    "    \n",
    "    path = [curr_room]\n",
    "    # reconstruct the path with help of the dictionary\n",
    "    while curr_room != starting_point:\n",
    "        curr_room = parent_dict[curr_room]\n",
    "        path.append(curr_room)\n",
    "    \n",
    "    return len(path)-1, list(reversed(path))"
   ]
  },
  {
   "cell_type": "code",
   "execution_count": 58,
   "metadata": {},
   "outputs": [
    {
     "name": "stdout",
     "output_type": "stream",
     "text": [
      "minimal number of required steps: 13\n",
      "[0, 1, 4, 78, 77, 80, 83, 84, 85, 89, 91, 94, 96, 99]\n"
     ]
    }
   ],
   "source": [
    "steps, path = breadth_search(0,99,M)\n",
    "print('minimal number of required steps: ' + str(steps))\n",
    "print(path)"
   ]
  },
  {
   "cell_type": "markdown",
   "metadata": {},
   "source": [
    "The list above displays the sequence of rooms when taking the shortest way out. One has to do 13 steps, i.e. one visits 14 rooms including start and goal."
   ]
  },
  {
   "cell_type": "markdown",
   "metadata": {},
   "source": [
    "In order to derive transition probabilites from the matrix $M$, we first have to normalize each row of $M$: For this purpose, we define $T'_{ij}=\\frac{M_{ij}}{\\sum_{j=0}^{99}M_{ij}}$, where $T'_{ij}$ now denotes the probability to go from room $i$ to room $j$. However, in a transition matrix, it should be the other way round such that $T'_{ij}$ is the probability to go from $j$ to $i$. Thus, we still have to transpose $T'$ to obtain the transition matrix $T=T'^T$."
   ]
  },
  {
   "cell_type": "code",
   "execution_count": 40,
   "metadata": {
    "collapsed": true
   },
   "outputs": [],
   "source": [
    "T = (M.T / np.sum(M, axis=1))"
   ]
  },
  {
   "cell_type": "markdown",
   "metadata": {},
   "source": [
    "# Expected traversal time"
   ]
  },
  {
   "cell_type": "markdown",
   "metadata": {},
   "source": [
    "Following the toy example on the exercise sheet, we can write for a maze consisting of $N$ rooms\n",
    "$$\n",
    "h_{ij}=1+\\sum_{k=1}^{N}P_{ik}h_{kj}\\quad\\mathrm{with}\\quad h_{ii}=0,\n",
    "$$\n",
    "where $P$ is the transition matrix and $P_{ij}$ denotes the probability to go from room $i$ to room $j$ in a time step. This equation can be arranged in this way for all $i\\neq j$. Rearranging terms provides\n",
    "$$\n",
    "h_{ij}-\\sum_{k=1}^{N}P_{ik}h_{kj}=1\\quad\\forall i\\neq j\n",
    "$$\n",
    "which is a linear system of N-1 equations with N-1 unknown variables ($h_{ij}, i=1...N, i\\neq j$). Defining the matrix\n",
    "$$\\bar{P}=\\begin{cases}P_{ij}&\\mathrm{if}i\\neq j\\\\1&\\mathrm{if}i=j\\end{cases}$$\n",
    "and let $\\bar{P}_{\\setminus j}$ denote the matrix $\\bar{P}$ without column and row with index $j$ (thus a (N-1)x(N-1)-matrix), then the system of equations can be rewritten as\n",
    "$$\\bar{P}_{\\setminus j}\\cdot\\vec{h}=\\vec{1}$$\n",
    "where $\\vec{h}_i=h_{ij}$ and $\\vec{1}$ a (N-1)-dimensional vector of ones."
   ]
  },
  {
   "cell_type": "markdown",
   "metadata": {},
   "source": [
    " <font color=\"red\">Lösen des LGS funktioniert nur, wenn isolierte Räume, die nicht erreicht werden können, vorher aus dem LGS entfernt werden, da die Matrix sonst singular ist. Alternativ: Minimierung des Least Squares Errror</font> "
   ]
  },
  {
   "cell_type": "code",
   "execution_count": 31,
   "metadata": {},
   "outputs": [
    {
     "data": {
      "text/plain": [
       "array([  2.20266393e+03,   2.19671785e+03,   2.19671785e+03,\n",
       "         2.21155610e+03,   2.17193351e+03,   2.24612478e+03,\n",
       "         2.27265880e+03,   2.10306396e+03,   2.25078225e+03,\n",
       "         2.27165880e+03,   2.27115880e+03,   2.28803535e+03,\n",
       "         2.30092288e+03,   2.31181040e+03,   2.31587896e+03,\n",
       "         2.32324692e+03,   2.32533423e+03,   2.32596791e+03,\n",
       "         2.33224310e+03,   2.34290176e+03,   2.34159984e+03,\n",
       "         2.34129387e+03,   2.34050964e+03,   2.35048213e+03,\n",
       "         2.34835273e+03,   2.35281154e+03,   2.35214096e+03,\n",
       "         2.35281154e+03,   2.35124684e+03,   2.15563009e+03,\n",
       "         2.15532239e+03,   2.15339932e+03,   2.15393778e+03,\n",
       "         2.15266855e+03,   2.14766855e+03,   2.13233521e+03,\n",
       "         2.16916590e+03,   2.14100188e+03,   2.17089586e+03,\n",
       "         2.20513012e+03,   2.20699361e+03,   2.20839122e+03,\n",
       "         2.20818645e+03,   2.20126664e+03,   2.20699361e+03,\n",
       "         2.20513012e+03,   2.24857778e+03,   2.27008388e+03,\n",
       "         2.26598266e+03,   2.26856424e+03,   2.27401817e+03,\n",
       "         2.27270475e+03,   2.27579623e+03,   2.27401817e+03,\n",
       "         2.27369404e+03,   2.27610745e+03,   2.27823480e+03,\n",
       "         2.28454796e+03,   2.27923480e+03,   2.30513833e+03,\n",
       "         2.31938117e+03,   2.31454785e+03,   2.32202974e+03,\n",
       "         2.32397987e+03,   2.32621006e+03,   2.33163817e+03,\n",
       "         2.33265052e+03,   2.33400854e+03,   2.33473694e+03,\n",
       "         2.33519373e+03,   2.33519373e+03,   2.02794388e+03,\n",
       "         1.98927267e+03,   1.95397325e+03,   2.03219440e+03,\n",
       "         1.93897913e+03,   1.77647619e+03,   2.03319440e+03,\n",
       "         1.11464286e+03,   1.43347619e+03,   1.20214286e+03,\n",
       "         1.06939286e+03,   1.06939286e+03,   1.31880952e+03,\n",
       "         2.34390176e+03,   8.87392857e+02,   7.68714286e+02,\n",
       "         7.62232143e+02,   7.62232143e+02,   6.59000000e+02,\n",
       "         7.28821429e+02,   3.97000000e+02,   1.00000000e+00,\n",
       "         5.29000000e+02])"
      ]
     },
     "execution_count": 31,
     "metadata": {},
     "output_type": "execute_result"
    }
   ],
   "source": [
    "for i in range(100):\n",
    "    M[i,i] = 0\n",
    "T = (M.T / np.maximum(1, np.sum(M, axis=1))).T\n",
    "for i in range(99):\n",
    "    T[i,i]=1\n",
    "    for j in range(99):\n",
    "        if i!=j:\n",
    "            T[i,j] = -T[i,j]\n",
    "T = np.delete(T,(13,32,73,76,90), axis=0)\n",
    "T = np.delete(T,(13,32,73,76,90), axis=1)\n",
    "b = np.ones(94)\n",
    "np.linalg.solve(T[:-1,:-1],b)\n",
    "#c,_,_,_ = np.linalg.lstsq(T[:-1,:-1],b)"
   ]
  },
  {
   "cell_type": "code",
   "execution_count": 74,
   "metadata": {
    "collapsed": true
   },
   "outputs": [],
   "source": [
    "def simulate_RW(start, goal, M):\n",
    "    '''\n",
    "    Simulate a random walk in maze specified by M with given start and goal.\n",
    "    The required amount of steps (=time) will be returned.\n",
    "    '''\n",
    "    curr_room = start\n",
    "    time = 0\n",
    "    while curr_room != goal:\n",
    "        neighbours = np.nonzero(M[curr_room,:])[0]\n",
    "        curr_room = np.random.choice(neighbours)\n",
    "        time += 1\n",
    "    \n",
    "    return time"
   ]
  },
  {
   "cell_type": "markdown",
   "metadata": {},
   "source": [
    " <font color=\"red\">muss eigentlich für N=100000 durchgeführt werden, dauert bei mir vmtl. eine stunde</font> "
   ]
  },
  {
   "cell_type": "code",
   "execution_count": 103,
   "metadata": {},
   "outputs": [
    {
     "name": "stdout",
     "output_type": "stream",
     "text": [
      "2209.487\n"
     ]
    }
   ],
   "source": [
    "N = 1000\n",
    "escape_times = np.zeros(N)\n",
    "for i in range(N):\n",
    "    escape_times[i] = simulate_RW(0,99,M)\n",
    "print(np.average(escape_times))"
   ]
  }
 ],
 "metadata": {
  "kernelspec": {
   "display_name": "Python 3",
   "language": "python",
   "name": "python3"
  },
  "language_info": {
   "codemirror_mode": {
    "name": "ipython",
    "version": 3
   },
   "file_extension": ".py",
   "mimetype": "text/x-python",
   "name": "python",
   "nbconvert_exporter": "python",
   "pygments_lexer": "ipython3",
   "version": "3.6.2"
  }
 },
 "nbformat": 4,
 "nbformat_minor": 2
}
