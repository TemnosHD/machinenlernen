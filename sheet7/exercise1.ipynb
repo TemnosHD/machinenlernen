{
 "cells": [
  {
   "cell_type": "code",
   "execution_count": 1,
   "metadata": {
    "collapsed": true
   },
   "outputs": [],
   "source": [
    "import numpy as np"
   ]
  },
  {
   "cell_type": "markdown",
   "metadata": {},
   "source": [
    "# Exercise 1.1: The way out"
   ]
  },
  {
   "cell_type": "code",
   "execution_count": 157,
   "metadata": {},
   "outputs": [],
   "source": [
    "M = np.load('maze.npy')"
   ]
  },
  {
   "cell_type": "markdown",
   "metadata": {},
   "source": [
    "First, we find the shortest way out using the breadth search algorithm."
   ]
  },
  {
   "cell_type": "code",
   "execution_count": 47,
   "metadata": {
    "collapsed": true
   },
   "outputs": [],
   "source": [
    "def breadth_search(starting_point, goal, M):\n",
    "    '''\n",
    "    Find the shortest way from starting point to goal in the maze specified by M using the breadth first algorithm.\n",
    "    '''\n",
    "    parent_dict = {} # store the parents of each visited node in a dictionary to be able to reconstruct the shortes path\n",
    "    visited = np.zeros(M.shape[0]) # store if room has been visited (0=False, 1=True)\n",
    "    visited[starting_point] = 1\n",
    "    queue = [] # store all rooms that still have to be checked\n",
    "    queue.append(starting_point)\n",
    "    counter = 0 # index of next element in queue to be chosen\n",
    "    while counter <= len(queue): \n",
    "        curr_room = queue[counter] # select next element from queue to check\n",
    "        if curr_room == goal:\n",
    "            break\n",
    "\n",
    "        neighbours = np.nonzero(M[curr_room,:]) # find all neighbouring rooms of current room\n",
    "        for neighbour in neighbours[0]:\n",
    "            # check if room has already been checked; if this is the case, it can be neglected now\n",
    "            if visited[neighbour] == 0: \n",
    "                queue.append(neighbour) # put room into the queue\n",
    "                parent_dict[neighbour] = curr_room # save the parent room in the dict\n",
    "                visited[neighbour] = 1 \n",
    "        counter += 1\n",
    "        \n",
    "    if counter > len(queue):\n",
    "        return 'There is no way out.'\n",
    "    \n",
    "    path = [curr_room]\n",
    "    # reconstruct the path with help of the dictionary\n",
    "    while curr_room != starting_point:\n",
    "        curr_room = parent_dict[curr_room]\n",
    "        path.append(curr_room)\n",
    "    \n",
    "    return len(path)-1, list(reversed(path))"
   ]
  },
  {
   "cell_type": "code",
   "execution_count": 50,
   "metadata": {},
   "outputs": [
    {
     "name": "stdout",
     "output_type": "stream",
     "text": [
      "minimal number of required steps: 13\n",
      "[0, 1, 4, 78, 77, 80, 83, 84, 85, 89, 91, 94, 96, 99]\n"
     ]
    }
   ],
   "source": [
    "steps, path = breadth_search(0,99,M)\n",
    "print('minimal number of required steps: ' + str(steps))\n",
    "print(path)"
   ]
  },
  {
   "cell_type": "markdown",
   "metadata": {},
   "source": [
    "The list above displays the sequence of rooms when taking the shortest way out. One has to do 13 steps, i.e. one visits 14 rooms including start and goal."
   ]
  },
  {
   "cell_type": "markdown",
   "metadata": {},
   "source": [
    "In order to derive the transition matrix $T$, the normalization condition $\\sum_{j=0}^{99}T_{ij}=1$ has to be fulfilled. Assuming that the walker chooses each door with equal probability, we can compute the transition matrix by $T_{ij}=\\frac{M_{ij}}{\\sum_{j=0}^{99}M_{ij}}$."
   ]
  },
  {
   "cell_type": "code",
   "execution_count": 107,
   "metadata": {},
   "outputs": [
    {
     "data": {
      "text/plain": [
       "array([ 1.,  1.,  1.,  1.,  1.,  1.,  1.,  1.,  1.,  1.,  1.,  1.,  1.,\n",
       "        1.,  1.,  1.,  1.,  1.,  1.,  1.,  1.,  1.,  1.,  1.,  1.,  1.,\n",
       "        1.,  1.,  1.,  1.,  1.,  1.,  1.,  1.,  1.,  1.,  1.,  1.,  1.,\n",
       "        1.,  1.,  1.,  1.,  1.,  1.,  1.,  1.,  1.,  1.,  1.,  1.,  1.,\n",
       "        1.,  1.,  1.,  1.,  1.,  1.,  1.,  1.,  1.,  1.,  1.,  1.,  1.,\n",
       "        1.,  1.,  1.,  1.,  1.,  1.,  1.,  1.,  1.,  1.,  1.,  1.,  1.,\n",
       "        1.,  1.,  1.,  1.,  1.,  1.,  1.,  1.,  1.,  1.,  1.,  1.,  1.,\n",
       "        1.,  1.,  1.,  1.,  1.,  1.,  1.,  1.,  1.])"
      ]
     },
     "execution_count": 107,
     "metadata": {},
     "output_type": "execute_result"
    }
   ],
   "source": [
    "T = (M.T / np.sum(M, axis=1)).T"
   ]
  },
  {
   "cell_type": "markdown",
   "metadata": {},
   "source": [
    "# Expected traversal time"
   ]
  },
  {
   "cell_type": "markdown",
   "metadata": {},
   "source": [
    "Following the toy example on the exercise sheet, we can write for a maze consisting of $N$ rooms\n",
    "$$\n",
    "h_{ij}=1+\\sum_{k=1}^{N}P_{ik}h_{kj}\\quad\\mathrm{with}\\quad h_{ii}=0.\n",
    "$$\n",
    "This equation can be arranged in this way for all $i\\neq j$ yielding a linear system of N-1 equations with N-1 variables ($h_{ij}, i=1...N, i\\neq j$). Solving this system then provides the expected traversal time for all $i$."
   ]
  },
  {
   "cell_type": "markdown",
   "metadata": {},
   "source": [
    " <font color=\"red\">wirkliches lösen des LGS per np.linalg.solve() funktioniert nicht da, die Matrix irgendwie singular ist.. näherung mit least-squares-minimization liefert aber schon mal ein passendes ergebnis (2203) das gut zum simulationsergebnis unten (2209) passt</font> "
   ]
  },
  {
   "cell_type": "code",
   "execution_count": 182,
   "metadata": {},
   "outputs": [
    {
     "data": {
      "text/plain": [
       "(array([  2.20266393e+03,   2.19671785e+03,   2.19671785e+03,\n",
       "          2.21155610e+03,   2.17193351e+03,   2.24612478e+03,\n",
       "          2.27265880e+03,   2.10306396e+03,   2.25078225e+03,\n",
       "          2.27165880e+03,   2.27115880e+03,   2.28803535e+03,\n",
       "          2.30092288e+03,   1.00000000e+00,   2.31181040e+03,\n",
       "          2.31587896e+03,   2.32324692e+03,   2.32533423e+03,\n",
       "          2.32596791e+03,   2.33224310e+03,   2.34290176e+03,\n",
       "          2.34159984e+03,   2.34129387e+03,   2.34050964e+03,\n",
       "          2.35048213e+03,   2.34835273e+03,   2.35281154e+03,\n",
       "          2.35214096e+03,   2.35281154e+03,   2.35124684e+03,\n",
       "          2.15563009e+03,   2.15532239e+03,   1.00000000e+00,\n",
       "          2.15339932e+03,   2.15393778e+03,   2.15266855e+03,\n",
       "          2.14766855e+03,   2.13233521e+03,   2.16916590e+03,\n",
       "          2.14100188e+03,   2.17089586e+03,   2.20513012e+03,\n",
       "          2.20699361e+03,   2.20839122e+03,   2.20818645e+03,\n",
       "          2.20126664e+03,   2.20699361e+03,   2.20513012e+03,\n",
       "          2.24857778e+03,   2.27008388e+03,   2.26598266e+03,\n",
       "          2.26856424e+03,   2.27401817e+03,   2.27270475e+03,\n",
       "          2.27579623e+03,   2.27401817e+03,   2.27369404e+03,\n",
       "          2.27610745e+03,   2.27823480e+03,   2.28454796e+03,\n",
       "          2.27923480e+03,   2.30513833e+03,   2.31938117e+03,\n",
       "          2.31454785e+03,   2.32202974e+03,   2.32397987e+03,\n",
       "          2.32621006e+03,   2.33163817e+03,   2.33265052e+03,\n",
       "          2.33400854e+03,   2.33473694e+03,   2.33519373e+03,\n",
       "          2.33519373e+03,  -1.04591891e-11,   2.02794388e+03,\n",
       "          1.98927267e+03,  -1.07291953e-11,   1.95397325e+03,\n",
       "          2.03219440e+03,   1.93897913e+03,   1.77647619e+03,\n",
       "          2.03319440e+03,   1.11464286e+03,   1.43347619e+03,\n",
       "          1.20214286e+03,   1.06939286e+03,   1.06939286e+03,\n",
       "          1.31880952e+03,   2.34390176e+03,   8.87392857e+02,\n",
       "          1.00000000e+00,   7.68714286e+02,   7.62232143e+02,\n",
       "          7.62232143e+02,   6.59000000e+02,   7.28821429e+02,\n",
       "          3.97000000e+02,   1.00000000e+00,   5.29000000e+02]),\n",
       " array([], dtype=float64),\n",
       " 98,\n",
       " array([  2.00000000e+00,   1.83564750e+00,   1.80590407e+00,\n",
       "          1.77364324e+00,   1.76104611e+00,   1.68753370e+00,\n",
       "          1.60223338e+00,   1.58490358e+00,   1.56033773e+00,\n",
       "          1.55831399e+00,   1.54819345e+00,   1.53535350e+00,\n",
       "          1.53482749e+00,   1.52907550e+00,   1.50009981e+00,\n",
       "          1.49014503e+00,   1.47418566e+00,   1.46811472e+00,\n",
       "          1.45263592e+00,   1.45023052e+00,   1.44481620e+00,\n",
       "          1.43043939e+00,   1.42797596e+00,   1.42006369e+00,\n",
       "          1.41420093e+00,   1.41186545e+00,   1.37621707e+00,\n",
       "          1.36257140e+00,   1.35141357e+00,   1.34214476e+00,\n",
       "          1.33914799e+00,   1.33333333e+00,   1.33333333e+00,\n",
       "          1.32687973e+00,   1.30949515e+00,   1.29974295e+00,\n",
       "          1.29186195e+00,   1.28178673e+00,   1.25814082e+00,\n",
       "          1.25000000e+00,   1.25000000e+00,   1.25000000e+00,\n",
       "          1.22061339e+00,   1.21333432e+00,   1.20000000e+00,\n",
       "          1.18788458e+00,   1.18499472e+00,   1.17406887e+00,\n",
       "          1.16721343e+00,   1.16260151e+00,   1.15066796e+00,\n",
       "          1.14327612e+00,   1.12846030e+00,   1.12343220e+00,\n",
       "          1.10577529e+00,   1.07495277e+00,   1.06545568e+00,\n",
       "          1.03596277e+00,   1.00000000e+00,   1.00000000e+00,\n",
       "          1.00000000e+00,   1.00000000e+00,   9.55509103e-01,\n",
       "          9.31767108e-01,   9.05228293e-01,   8.88862402e-01,\n",
       "          8.50684636e-01,   8.22657192e-01,   7.87248898e-01,\n",
       "          7.69349652e-01,   7.46174671e-01,   7.39867423e-01,\n",
       "          7.10699751e-01,   6.82468197e-01,   6.68850916e-01,\n",
       "          6.53947158e-01,   5.82820019e-01,   5.79724482e-01,\n",
       "          5.37939276e-01,   5.21220280e-01,   5.04188485e-01,\n",
       "          4.72738370e-01,   3.89093225e-01,   3.12594797e-01,\n",
       "          3.02173025e-01,   2.60793569e-01,   2.08007733e-01,\n",
       "          1.90286557e-01,   1.34912663e-01,   1.11228608e-01,\n",
       "          8.17239137e-02,   6.85945384e-02,   5.45418469e-02,\n",
       "          4.32987293e-02,   3.20440343e-02,   1.72924227e-02,\n",
       "          1.06383093e-02,   4.24387169e-04,   3.52113637e-17]))"
      ]
     },
     "execution_count": 182,
     "metadata": {},
     "output_type": "execute_result"
    }
   ],
   "source": [
    "for i in range(100):\n",
    "    M[i,i] = 0\n",
    "T = (M.T / np.maximum(1, np.sum(M, axis=1))).T\n",
    "for i in range(99):\n",
    "    T[i,i]=1\n",
    "    for j in range(99):\n",
    "        if i!=j:\n",
    "            T[i,j] = -T[i,j]\n",
    "b = np.ones(99)\n",
    "np.linalg.lstsq(T[:-1,:-1],b)"
   ]
  },
  {
   "cell_type": "code",
   "execution_count": 74,
   "metadata": {
    "collapsed": true
   },
   "outputs": [],
   "source": [
    "def simulate_RW(start, goal, M):\n",
    "    '''\n",
    "    Simulate a random walk in maze specified by M with given start and goal.\n",
    "    The required amount of steps (=time) will be returned.\n",
    "    '''\n",
    "    curr_room = start\n",
    "    time = 0\n",
    "    while curr_room != goal:\n",
    "        neighbours = np.nonzero(M[curr_room,:])[0]\n",
    "        curr_room = np.random.choice(neighbours)\n",
    "        time += 1\n",
    "    \n",
    "    return time"
   ]
  },
  {
   "cell_type": "markdown",
   "metadata": {},
   "source": [
    " <font color=\"red\">muss eigentlich für N=100000 durchgeführt werden, dauert bei mir vmtl. eine stunde</font> "
   ]
  },
  {
   "cell_type": "code",
   "execution_count": 103,
   "metadata": {},
   "outputs": [
    {
     "name": "stdout",
     "output_type": "stream",
     "text": [
      "2209.487\n"
     ]
    }
   ],
   "source": [
    "N = 1000\n",
    "escape_times = np.zeros(N)\n",
    "for i in range(N):\n",
    "    escape_times[i] = simulate_RW(0,99,M)\n",
    "print(np.average(escape_times))"
   ]
  }
 ],
 "metadata": {
  "kernelspec": {
   "display_name": "Python 3",
   "language": "python",
   "name": "python3"
  },
  "language_info": {
   "codemirror_mode": {
    "name": "ipython",
    "version": 3
   },
   "file_extension": ".py",
   "mimetype": "text/x-python",
   "name": "python",
   "nbconvert_exporter": "python",
   "pygments_lexer": "ipython3",
   "version": "3.6.2"
  }
 },
 "nbformat": 4,
 "nbformat_minor": 2
}
